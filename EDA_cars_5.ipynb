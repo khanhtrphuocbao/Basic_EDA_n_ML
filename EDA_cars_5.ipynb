{
  "cells": [
    {
      "cell_type": "code",
      "execution_count": 1,
      "id": "4ee8b8ff-c89e-4f84-a98c-b2ab05be242e",
      "metadata": {
        "colab": {
          "base_uri": "https://localhost:8080/"
        },
        "id": "4ee8b8ff-c89e-4f84-a98c-b2ab05be242e",
        "outputId": "7d4f431e-4d50-4563-bcb3-42fa998dd3cc"
      },
      "outputs": [
        {
          "name": "stderr",
          "output_type": "stream",
          "text": [
            "/usr/local/lib/python3.7/dist-packages/ipykernel_launcher.py:22: FutureWarning: Passing a negative integer is deprecated in version 1.0 and will not be supported in future version. Instead, use None to not limit the column width.\n"
          ]
        }
      ],
      "source": [
        "from IPython.core.interactiveshell import InteractiveShell\n",
        "InteractiveShell.ast_node_interactivity = \"all\"\n",
        "from IPython.display import clear_output\n",
        "\n",
        "import pandas as pd\n",
        "import numpy as np\n",
        "import datetime as dt\n",
        "import seaborn as sns\n",
        "import re\n",
        "import matplotlib.pyplot as plt\n",
        "from scipy import stats\n",
        "\n",
        "from sklearn.preprocessing import PolynomialFeatures\n",
        "from sklearn.preprocessing import StandardScaler\n",
        "from sklearn.linear_model import LinearRegression\n",
        "from sklearn.metrics import r2_score, mean_squared_error\n",
        "from sklearn.pipeline import Pipeline\n",
        "\n",
        "# pd.set_option('display.max_rows', None)\n",
        "pd.set_option('display.max_columns', None)\n",
        "pd.set_option('display.width', None)\n",
        "pd.set_option('display.max_colwidth', -1)\n",
        "pd.options.display.max_rows\n",
        "sns.set()"
      ]
    },
    {
      "cell_type": "markdown",
      "id": "ab4bdfe9-66be-40f6-adea-2bea4904b00d",
      "metadata": {
        "id": "ab4bdfe9-66be-40f6-adea-2bea4904b00d"
      },
      "source": [
        "# Câu 1"
      ]
    },
    {
      "cell_type": "markdown",
      "id": "EdtCtxSyZa3n",
      "metadata": {
        "id": "EdtCtxSyZa3n"
      },
      "source": [
        "Tạo dataframe (df) lưu trữ dataset tại đường dẫn trên (chọn cách đọc load từ internet). Xuất 10 samples bất kỳ. Dataset có bao nhiêu sample, số lượng bao nhiêu feature."
      ]
    },
    {
      "cell_type": "code",
      "execution_count": 2,
      "id": "62c33198-6183-4749-9a34-309d4aa30227",
      "metadata": {
        "id": "62c33198-6183-4749-9a34-309d4aa30227"
      },
      "outputs": [],
      "source": [
        "url = 'https://raw.githubusercontent.com/datasethub/ds105/master/Lab_Model_Development.csv'"
      ]
    },
    {
      "cell_type": "code",
      "execution_count": 4,
      "id": "7028cc08-b95d-4a65-afc4-a90d94831393",
      "metadata": {
        "id": "7028cc08-b95d-4a65-afc4-a90d94831393"
      },
      "outputs": [],
      "source": [
        "df = pd.read_csv(url)"
      ]
    },
    {
      "cell_type": "code",
      "execution_count": 5,
      "id": "3055bd78-c942-4296-ae5f-2d1ea64e3aee",
      "metadata": {
        "colab": {
          "base_uri": "https://localhost:8080/",
          "height": 424
        },
        "id": "3055bd78-c942-4296-ae5f-2d1ea64e3aee",
        "outputId": "3ad7195b-ddde-4a99-f747-16e33b7918fe"
      },
      "outputs": [
        {
          "data": {
            "text/html": [
              "\n",
              "  <div id=\"df-5b13955f-2fd7-4811-b5b6-4145dfd82cb7\">\n",
              "    <div class=\"colab-df-container\">\n",
              "      <div>\n",
              "<style scoped>\n",
              "    .dataframe tbody tr th:only-of-type {\n",
              "        vertical-align: middle;\n",
              "    }\n",
              "\n",
              "    .dataframe tbody tr th {\n",
              "        vertical-align: top;\n",
              "    }\n",
              "\n",
              "    .dataframe thead th {\n",
              "        text-align: right;\n",
              "    }\n",
              "</style>\n",
              "<table border=\"1\" class=\"dataframe\">\n",
              "  <thead>\n",
              "    <tr style=\"text-align: right;\">\n",
              "      <th></th>\n",
              "      <th>curb-weight</th>\n",
              "      <th>engine-size</th>\n",
              "      <th>length</th>\n",
              "      <th>width</th>\n",
              "      <th>horsepower</th>\n",
              "      <th>city-mpg</th>\n",
              "      <th>highway-mpg</th>\n",
              "      <th>wheel-base</th>\n",
              "      <th>bore</th>\n",
              "      <th>price</th>\n",
              "    </tr>\n",
              "  </thead>\n",
              "  <tbody>\n",
              "    <tr>\n",
              "      <th>0</th>\n",
              "      <td>2548</td>\n",
              "      <td>130</td>\n",
              "      <td>0.811148</td>\n",
              "      <td>0.890278</td>\n",
              "      <td>111.0</td>\n",
              "      <td>21</td>\n",
              "      <td>27</td>\n",
              "      <td>88.6</td>\n",
              "      <td>3.47</td>\n",
              "      <td>13495.0</td>\n",
              "    </tr>\n",
              "    <tr>\n",
              "      <th>1</th>\n",
              "      <td>2548</td>\n",
              "      <td>130</td>\n",
              "      <td>0.811148</td>\n",
              "      <td>0.890278</td>\n",
              "      <td>111.0</td>\n",
              "      <td>21</td>\n",
              "      <td>27</td>\n",
              "      <td>88.6</td>\n",
              "      <td>3.47</td>\n",
              "      <td>16500.0</td>\n",
              "    </tr>\n",
              "    <tr>\n",
              "      <th>2</th>\n",
              "      <td>2823</td>\n",
              "      <td>152</td>\n",
              "      <td>0.822681</td>\n",
              "      <td>0.909722</td>\n",
              "      <td>154.0</td>\n",
              "      <td>19</td>\n",
              "      <td>26</td>\n",
              "      <td>94.5</td>\n",
              "      <td>2.68</td>\n",
              "      <td>16500.0</td>\n",
              "    </tr>\n",
              "    <tr>\n",
              "      <th>3</th>\n",
              "      <td>2337</td>\n",
              "      <td>109</td>\n",
              "      <td>0.848630</td>\n",
              "      <td>0.919444</td>\n",
              "      <td>102.0</td>\n",
              "      <td>24</td>\n",
              "      <td>30</td>\n",
              "      <td>99.8</td>\n",
              "      <td>3.19</td>\n",
              "      <td>13950.0</td>\n",
              "    </tr>\n",
              "    <tr>\n",
              "      <th>4</th>\n",
              "      <td>2824</td>\n",
              "      <td>136</td>\n",
              "      <td>0.848630</td>\n",
              "      <td>0.922222</td>\n",
              "      <td>115.0</td>\n",
              "      <td>18</td>\n",
              "      <td>22</td>\n",
              "      <td>99.4</td>\n",
              "      <td>3.19</td>\n",
              "      <td>17450.0</td>\n",
              "    </tr>\n",
              "    <tr>\n",
              "      <th>...</th>\n",
              "      <td>...</td>\n",
              "      <td>...</td>\n",
              "      <td>...</td>\n",
              "      <td>...</td>\n",
              "      <td>...</td>\n",
              "      <td>...</td>\n",
              "      <td>...</td>\n",
              "      <td>...</td>\n",
              "      <td>...</td>\n",
              "      <td>...</td>\n",
              "    </tr>\n",
              "    <tr>\n",
              "      <th>196</th>\n",
              "      <td>2952</td>\n",
              "      <td>141</td>\n",
              "      <td>0.907256</td>\n",
              "      <td>0.956944</td>\n",
              "      <td>114.0</td>\n",
              "      <td>23</td>\n",
              "      <td>28</td>\n",
              "      <td>109.1</td>\n",
              "      <td>3.78</td>\n",
              "      <td>16845.0</td>\n",
              "    </tr>\n",
              "    <tr>\n",
              "      <th>197</th>\n",
              "      <td>3049</td>\n",
              "      <td>141</td>\n",
              "      <td>0.907256</td>\n",
              "      <td>0.955556</td>\n",
              "      <td>160.0</td>\n",
              "      <td>19</td>\n",
              "      <td>25</td>\n",
              "      <td>109.1</td>\n",
              "      <td>3.78</td>\n",
              "      <td>19045.0</td>\n",
              "    </tr>\n",
              "    <tr>\n",
              "      <th>198</th>\n",
              "      <td>3012</td>\n",
              "      <td>173</td>\n",
              "      <td>0.907256</td>\n",
              "      <td>0.956944</td>\n",
              "      <td>134.0</td>\n",
              "      <td>18</td>\n",
              "      <td>23</td>\n",
              "      <td>109.1</td>\n",
              "      <td>3.58</td>\n",
              "      <td>21485.0</td>\n",
              "    </tr>\n",
              "    <tr>\n",
              "      <th>199</th>\n",
              "      <td>3217</td>\n",
              "      <td>145</td>\n",
              "      <td>0.907256</td>\n",
              "      <td>0.956944</td>\n",
              "      <td>106.0</td>\n",
              "      <td>26</td>\n",
              "      <td>27</td>\n",
              "      <td>109.1</td>\n",
              "      <td>3.01</td>\n",
              "      <td>22470.0</td>\n",
              "    </tr>\n",
              "    <tr>\n",
              "      <th>200</th>\n",
              "      <td>3062</td>\n",
              "      <td>141</td>\n",
              "      <td>0.907256</td>\n",
              "      <td>0.956944</td>\n",
              "      <td>114.0</td>\n",
              "      <td>19</td>\n",
              "      <td>25</td>\n",
              "      <td>109.1</td>\n",
              "      <td>3.78</td>\n",
              "      <td>22625.0</td>\n",
              "    </tr>\n",
              "  </tbody>\n",
              "</table>\n",
              "<p>201 rows × 10 columns</p>\n",
              "</div>\n",
              "      <button class=\"colab-df-convert\" onclick=\"convertToInteractive('df-5b13955f-2fd7-4811-b5b6-4145dfd82cb7')\"\n",
              "              title=\"Convert this dataframe to an interactive table.\"\n",
              "              style=\"display:none;\">\n",
              "        \n",
              "  <svg xmlns=\"http://www.w3.org/2000/svg\" height=\"24px\"viewBox=\"0 0 24 24\"\n",
              "       width=\"24px\">\n",
              "    <path d=\"M0 0h24v24H0V0z\" fill=\"none\"/>\n",
              "    <path d=\"M18.56 5.44l.94 2.06.94-2.06 2.06-.94-2.06-.94-.94-2.06-.94 2.06-2.06.94zm-11 1L8.5 8.5l.94-2.06 2.06-.94-2.06-.94L8.5 2.5l-.94 2.06-2.06.94zm10 10l.94 2.06.94-2.06 2.06-.94-2.06-.94-.94-2.06-.94 2.06-2.06.94z\"/><path d=\"M17.41 7.96l-1.37-1.37c-.4-.4-.92-.59-1.43-.59-.52 0-1.04.2-1.43.59L10.3 9.45l-7.72 7.72c-.78.78-.78 2.05 0 2.83L4 21.41c.39.39.9.59 1.41.59.51 0 1.02-.2 1.41-.59l7.78-7.78 2.81-2.81c.8-.78.8-2.07 0-2.86zM5.41 20L4 18.59l7.72-7.72 1.47 1.35L5.41 20z\"/>\n",
              "  </svg>\n",
              "      </button>\n",
              "      \n",
              "  <style>\n",
              "    .colab-df-container {\n",
              "      display:flex;\n",
              "      flex-wrap:wrap;\n",
              "      gap: 12px;\n",
              "    }\n",
              "\n",
              "    .colab-df-convert {\n",
              "      background-color: #E8F0FE;\n",
              "      border: none;\n",
              "      border-radius: 50%;\n",
              "      cursor: pointer;\n",
              "      display: none;\n",
              "      fill: #1967D2;\n",
              "      height: 32px;\n",
              "      padding: 0 0 0 0;\n",
              "      width: 32px;\n",
              "    }\n",
              "\n",
              "    .colab-df-convert:hover {\n",
              "      background-color: #E2EBFA;\n",
              "      box-shadow: 0px 1px 2px rgba(60, 64, 67, 0.3), 0px 1px 3px 1px rgba(60, 64, 67, 0.15);\n",
              "      fill: #174EA6;\n",
              "    }\n",
              "\n",
              "    [theme=dark] .colab-df-convert {\n",
              "      background-color: #3B4455;\n",
              "      fill: #D2E3FC;\n",
              "    }\n",
              "\n",
              "    [theme=dark] .colab-df-convert:hover {\n",
              "      background-color: #434B5C;\n",
              "      box-shadow: 0px 1px 3px 1px rgba(0, 0, 0, 0.15);\n",
              "      filter: drop-shadow(0px 1px 2px rgba(0, 0, 0, 0.3));\n",
              "      fill: #FFFFFF;\n",
              "    }\n",
              "  </style>\n",
              "\n",
              "      <script>\n",
              "        const buttonEl =\n",
              "          document.querySelector('#df-5b13955f-2fd7-4811-b5b6-4145dfd82cb7 button.colab-df-convert');\n",
              "        buttonEl.style.display =\n",
              "          google.colab.kernel.accessAllowed ? 'block' : 'none';\n",
              "\n",
              "        async function convertToInteractive(key) {\n",
              "          const element = document.querySelector('#df-5b13955f-2fd7-4811-b5b6-4145dfd82cb7');\n",
              "          const dataTable =\n",
              "            await google.colab.kernel.invokeFunction('convertToInteractive',\n",
              "                                                     [key], {});\n",
              "          if (!dataTable) return;\n",
              "\n",
              "          const docLinkHtml = 'Like what you see? Visit the ' +\n",
              "            '<a target=\"_blank\" href=https://colab.research.google.com/notebooks/data_table.ipynb>data table notebook</a>'\n",
              "            + ' to learn more about interactive tables.';\n",
              "          element.innerHTML = '';\n",
              "          dataTable['output_type'] = 'display_data';\n",
              "          await google.colab.output.renderOutput(dataTable, element);\n",
              "          const docLink = document.createElement('div');\n",
              "          docLink.innerHTML = docLinkHtml;\n",
              "          element.appendChild(docLink);\n",
              "        }\n",
              "      </script>\n",
              "    </div>\n",
              "  </div>\n",
              "  "
            ],
            "text/plain": [
              "     curb-weight  engine-size    length     width  horsepower  city-mpg  \\\n",
              "0    2548         130          0.811148  0.890278  111.0       21         \n",
              "1    2548         130          0.811148  0.890278  111.0       21         \n",
              "2    2823         152          0.822681  0.909722  154.0       19         \n",
              "3    2337         109          0.848630  0.919444  102.0       24         \n",
              "4    2824         136          0.848630  0.922222  115.0       18         \n",
              "..    ...         ...               ...       ...    ...       ..         \n",
              "196  2952         141          0.907256  0.956944  114.0       23         \n",
              "197  3049         141          0.907256  0.955556  160.0       19         \n",
              "198  3012         173          0.907256  0.956944  134.0       18         \n",
              "199  3217         145          0.907256  0.956944  106.0       26         \n",
              "200  3062         141          0.907256  0.956944  114.0       19         \n",
              "\n",
              "     highway-mpg  wheel-base  bore    price  \n",
              "0    27           88.6        3.47  13495.0  \n",
              "1    27           88.6        3.47  16500.0  \n",
              "2    26           94.5        2.68  16500.0  \n",
              "3    30           99.8        3.19  13950.0  \n",
              "4    22           99.4        3.19  17450.0  \n",
              "..   ..            ...         ...      ...  \n",
              "196  28           109.1       3.78  16845.0  \n",
              "197  25           109.1       3.78  19045.0  \n",
              "198  23           109.1       3.58  21485.0  \n",
              "199  27           109.1       3.01  22470.0  \n",
              "200  25           109.1       3.78  22625.0  \n",
              "\n",
              "[201 rows x 10 columns]"
            ]
          },
          "execution_count": 5,
          "metadata": {},
          "output_type": "execute_result"
        }
      ],
      "source": [
        "df"
      ]
    },
    {
      "cell_type": "code",
      "execution_count": 6,
      "id": "f5eaf7a3-2e63-4874-981b-5ad4c6d511d5",
      "metadata": {
        "colab": {
          "base_uri": "https://localhost:8080/",
          "height": 363
        },
        "id": "f5eaf7a3-2e63-4874-981b-5ad4c6d511d5",
        "outputId": "87fdcc2e-310e-431a-a30c-47ab96d66135"
      },
      "outputs": [
        {
          "data": {
            "text/html": [
              "\n",
              "  <div id=\"df-3a1ea4ef-5a40-443c-a05c-4b5f853e5965\">\n",
              "    <div class=\"colab-df-container\">\n",
              "      <div>\n",
              "<style scoped>\n",
              "    .dataframe tbody tr th:only-of-type {\n",
              "        vertical-align: middle;\n",
              "    }\n",
              "\n",
              "    .dataframe tbody tr th {\n",
              "        vertical-align: top;\n",
              "    }\n",
              "\n",
              "    .dataframe thead th {\n",
              "        text-align: right;\n",
              "    }\n",
              "</style>\n",
              "<table border=\"1\" class=\"dataframe\">\n",
              "  <thead>\n",
              "    <tr style=\"text-align: right;\">\n",
              "      <th></th>\n",
              "      <th>curb-weight</th>\n",
              "      <th>engine-size</th>\n",
              "      <th>length</th>\n",
              "      <th>width</th>\n",
              "      <th>horsepower</th>\n",
              "      <th>city-mpg</th>\n",
              "      <th>highway-mpg</th>\n",
              "      <th>wheel-base</th>\n",
              "      <th>bore</th>\n",
              "      <th>price</th>\n",
              "    </tr>\n",
              "  </thead>\n",
              "  <tbody>\n",
              "    <tr>\n",
              "      <th>126</th>\n",
              "      <td>2579</td>\n",
              "      <td>132</td>\n",
              "      <td>0.872177</td>\n",
              "      <td>0.923611</td>\n",
              "      <td>104.256158</td>\n",
              "      <td>23</td>\n",
              "      <td>31</td>\n",
              "      <td>96.1</td>\n",
              "      <td>3.460000</td>\n",
              "      <td>9295.0</td>\n",
              "    </tr>\n",
              "    <tr>\n",
              "      <th>27</th>\n",
              "      <td>2535</td>\n",
              "      <td>122</td>\n",
              "      <td>0.839020</td>\n",
              "      <td>0.897222</td>\n",
              "      <td>88.000000</td>\n",
              "      <td>24</td>\n",
              "      <td>30</td>\n",
              "      <td>103.3</td>\n",
              "      <td>3.340000</td>\n",
              "      <td>8921.0</td>\n",
              "    </tr>\n",
              "    <tr>\n",
              "      <th>53</th>\n",
              "      <td>2380</td>\n",
              "      <td>70</td>\n",
              "      <td>0.812110</td>\n",
              "      <td>0.912500</td>\n",
              "      <td>101.000000</td>\n",
              "      <td>17</td>\n",
              "      <td>23</td>\n",
              "      <td>95.3</td>\n",
              "      <td>3.329751</td>\n",
              "      <td>11845.0</td>\n",
              "    </tr>\n",
              "    <tr>\n",
              "      <th>181</th>\n",
              "      <td>2212</td>\n",
              "      <td>109</td>\n",
              "      <td>0.825084</td>\n",
              "      <td>0.909722</td>\n",
              "      <td>85.000000</td>\n",
              "      <td>27</td>\n",
              "      <td>34</td>\n",
              "      <td>97.3</td>\n",
              "      <td>3.190000</td>\n",
              "      <td>8195.0</td>\n",
              "    </tr>\n",
              "    <tr>\n",
              "      <th>39</th>\n",
              "      <td>2372</td>\n",
              "      <td>110</td>\n",
              "      <td>0.842864</td>\n",
              "      <td>0.868056</td>\n",
              "      <td>86.000000</td>\n",
              "      <td>27</td>\n",
              "      <td>33</td>\n",
              "      <td>96.5</td>\n",
              "      <td>3.150000</td>\n",
              "      <td>10295.0</td>\n",
              "    </tr>\n",
              "    <tr>\n",
              "      <th>66</th>\n",
              "      <td>3495</td>\n",
              "      <td>183</td>\n",
              "      <td>0.901009</td>\n",
              "      <td>0.976389</td>\n",
              "      <td>123.000000</td>\n",
              "      <td>22</td>\n",
              "      <td>25</td>\n",
              "      <td>106.7</td>\n",
              "      <td>3.580000</td>\n",
              "      <td>28176.0</td>\n",
              "    </tr>\n",
              "    <tr>\n",
              "      <th>197</th>\n",
              "      <td>3049</td>\n",
              "      <td>141</td>\n",
              "      <td>0.907256</td>\n",
              "      <td>0.955556</td>\n",
              "      <td>160.000000</td>\n",
              "      <td>19</td>\n",
              "      <td>25</td>\n",
              "      <td>109.1</td>\n",
              "      <td>3.780000</td>\n",
              "      <td>19045.0</td>\n",
              "    </tr>\n",
              "    <tr>\n",
              "      <th>71</th>\n",
              "      <td>3715</td>\n",
              "      <td>304</td>\n",
              "      <td>0.957232</td>\n",
              "      <td>1.000000</td>\n",
              "      <td>184.000000</td>\n",
              "      <td>14</td>\n",
              "      <td>16</td>\n",
              "      <td>112.0</td>\n",
              "      <td>3.800000</td>\n",
              "      <td>45400.0</td>\n",
              "    </tr>\n",
              "    <tr>\n",
              "      <th>25</th>\n",
              "      <td>1989</td>\n",
              "      <td>90</td>\n",
              "      <td>0.755887</td>\n",
              "      <td>0.886111</td>\n",
              "      <td>68.000000</td>\n",
              "      <td>31</td>\n",
              "      <td>38</td>\n",
              "      <td>93.7</td>\n",
              "      <td>2.970000</td>\n",
              "      <td>7609.0</td>\n",
              "    </tr>\n",
              "    <tr>\n",
              "      <th>78</th>\n",
              "      <td>2328</td>\n",
              "      <td>122</td>\n",
              "      <td>0.831331</td>\n",
              "      <td>0.908333</td>\n",
              "      <td>88.000000</td>\n",
              "      <td>25</td>\n",
              "      <td>32</td>\n",
              "      <td>96.3</td>\n",
              "      <td>3.350000</td>\n",
              "      <td>8499.0</td>\n",
              "    </tr>\n",
              "  </tbody>\n",
              "</table>\n",
              "</div>\n",
              "      <button class=\"colab-df-convert\" onclick=\"convertToInteractive('df-3a1ea4ef-5a40-443c-a05c-4b5f853e5965')\"\n",
              "              title=\"Convert this dataframe to an interactive table.\"\n",
              "              style=\"display:none;\">\n",
              "        \n",
              "  <svg xmlns=\"http://www.w3.org/2000/svg\" height=\"24px\"viewBox=\"0 0 24 24\"\n",
              "       width=\"24px\">\n",
              "    <path d=\"M0 0h24v24H0V0z\" fill=\"none\"/>\n",
              "    <path d=\"M18.56 5.44l.94 2.06.94-2.06 2.06-.94-2.06-.94-.94-2.06-.94 2.06-2.06.94zm-11 1L8.5 8.5l.94-2.06 2.06-.94-2.06-.94L8.5 2.5l-.94 2.06-2.06.94zm10 10l.94 2.06.94-2.06 2.06-.94-2.06-.94-.94-2.06-.94 2.06-2.06.94z\"/><path d=\"M17.41 7.96l-1.37-1.37c-.4-.4-.92-.59-1.43-.59-.52 0-1.04.2-1.43.59L10.3 9.45l-7.72 7.72c-.78.78-.78 2.05 0 2.83L4 21.41c.39.39.9.59 1.41.59.51 0 1.02-.2 1.41-.59l7.78-7.78 2.81-2.81c.8-.78.8-2.07 0-2.86zM5.41 20L4 18.59l7.72-7.72 1.47 1.35L5.41 20z\"/>\n",
              "  </svg>\n",
              "      </button>\n",
              "      \n",
              "  <style>\n",
              "    .colab-df-container {\n",
              "      display:flex;\n",
              "      flex-wrap:wrap;\n",
              "      gap: 12px;\n",
              "    }\n",
              "\n",
              "    .colab-df-convert {\n",
              "      background-color: #E8F0FE;\n",
              "      border: none;\n",
              "      border-radius: 50%;\n",
              "      cursor: pointer;\n",
              "      display: none;\n",
              "      fill: #1967D2;\n",
              "      height: 32px;\n",
              "      padding: 0 0 0 0;\n",
              "      width: 32px;\n",
              "    }\n",
              "\n",
              "    .colab-df-convert:hover {\n",
              "      background-color: #E2EBFA;\n",
              "      box-shadow: 0px 1px 2px rgba(60, 64, 67, 0.3), 0px 1px 3px 1px rgba(60, 64, 67, 0.15);\n",
              "      fill: #174EA6;\n",
              "    }\n",
              "\n",
              "    [theme=dark] .colab-df-convert {\n",
              "      background-color: #3B4455;\n",
              "      fill: #D2E3FC;\n",
              "    }\n",
              "\n",
              "    [theme=dark] .colab-df-convert:hover {\n",
              "      background-color: #434B5C;\n",
              "      box-shadow: 0px 1px 3px 1px rgba(0, 0, 0, 0.15);\n",
              "      filter: drop-shadow(0px 1px 2px rgba(0, 0, 0, 0.3));\n",
              "      fill: #FFFFFF;\n",
              "    }\n",
              "  </style>\n",
              "\n",
              "      <script>\n",
              "        const buttonEl =\n",
              "          document.querySelector('#df-3a1ea4ef-5a40-443c-a05c-4b5f853e5965 button.colab-df-convert');\n",
              "        buttonEl.style.display =\n",
              "          google.colab.kernel.accessAllowed ? 'block' : 'none';\n",
              "\n",
              "        async function convertToInteractive(key) {\n",
              "          const element = document.querySelector('#df-3a1ea4ef-5a40-443c-a05c-4b5f853e5965');\n",
              "          const dataTable =\n",
              "            await google.colab.kernel.invokeFunction('convertToInteractive',\n",
              "                                                     [key], {});\n",
              "          if (!dataTable) return;\n",
              "\n",
              "          const docLinkHtml = 'Like what you see? Visit the ' +\n",
              "            '<a target=\"_blank\" href=https://colab.research.google.com/notebooks/data_table.ipynb>data table notebook</a>'\n",
              "            + ' to learn more about interactive tables.';\n",
              "          element.innerHTML = '';\n",
              "          dataTable['output_type'] = 'display_data';\n",
              "          await google.colab.output.renderOutput(dataTable, element);\n",
              "          const docLink = document.createElement('div');\n",
              "          docLink.innerHTML = docLinkHtml;\n",
              "          element.appendChild(docLink);\n",
              "        }\n",
              "      </script>\n",
              "    </div>\n",
              "  </div>\n",
              "  "
            ],
            "text/plain": [
              "     curb-weight  engine-size    length     width  horsepower  city-mpg  \\\n",
              "126  2579         132          0.872177  0.923611  104.256158  23         \n",
              "27   2535         122          0.839020  0.897222  88.000000   24         \n",
              "53   2380         70           0.812110  0.912500  101.000000  17         \n",
              "181  2212         109          0.825084  0.909722  85.000000   27         \n",
              "39   2372         110          0.842864  0.868056  86.000000   27         \n",
              "66   3495         183          0.901009  0.976389  123.000000  22         \n",
              "197  3049         141          0.907256  0.955556  160.000000  19         \n",
              "71   3715         304          0.957232  1.000000  184.000000  14         \n",
              "25   1989         90           0.755887  0.886111  68.000000   31         \n",
              "78   2328         122          0.831331  0.908333  88.000000   25         \n",
              "\n",
              "     highway-mpg  wheel-base      bore    price  \n",
              "126  31           96.1        3.460000  9295.0   \n",
              "27   30           103.3       3.340000  8921.0   \n",
              "53   23           95.3        3.329751  11845.0  \n",
              "181  34           97.3        3.190000  8195.0   \n",
              "39   33           96.5        3.150000  10295.0  \n",
              "66   25           106.7       3.580000  28176.0  \n",
              "197  25           109.1       3.780000  19045.0  \n",
              "71   16           112.0       3.800000  45400.0  \n",
              "25   38           93.7        2.970000  7609.0   \n",
              "78   32           96.3        3.350000  8499.0   "
            ]
          },
          "execution_count": 6,
          "metadata": {},
          "output_type": "execute_result"
        }
      ],
      "source": [
        "df.sample(10)"
      ]
    },
    {
      "cell_type": "code",
      "execution_count": 7,
      "id": "0848a423-cb39-422a-80d4-4eff0be50155",
      "metadata": {
        "colab": {
          "base_uri": "https://localhost:8080/"
        },
        "id": "0848a423-cb39-422a-80d4-4eff0be50155",
        "outputId": "bba6f56e-38f7-4e3f-f693-171adf06889a"
      },
      "outputs": [
        {
          "data": {
            "text/plain": [
              "(201, 10)"
            ]
          },
          "execution_count": 7,
          "metadata": {},
          "output_type": "execute_result"
        }
      ],
      "source": [
        "df.shape"
      ]
    },
    {
      "cell_type": "markdown",
      "id": "97a2b5f2-e238-47ce-8d1b-a1d3870308a3",
      "metadata": {
        "id": "97a2b5f2-e238-47ce-8d1b-a1d3870308a3"
      },
      "source": [
        "Dataset trên có 201 samples và 10 features"
      ]
    },
    {
      "cell_type": "markdown",
      "id": "50cf2beb-0458-4f90-859b-8c37493cc202",
      "metadata": {
        "id": "50cf2beb-0458-4f90-859b-8c37493cc202"
      },
      "source": [
        "# Câu 2"
      ]
    },
    {
      "cell_type": "markdown",
      "id": "HCxank8fZju3",
      "metadata": {
        "id": "HCxank8fZju3"
      },
      "source": [
        "Kiểm tra kiểu dữ liệu của các feature `curb-weight`, `engine-size`, `length`, `width`, `horsepower`, `city-mpg`, `highway-mpg`, `wheel-base`, `bore` trong dataset có bị khuyết giá trị nào không?"
      ]
    },
    {
      "cell_type": "code",
      "execution_count": 8,
      "id": "0860d16b-359f-4d6d-aa68-72a2e9fb6c39",
      "metadata": {
        "colab": {
          "base_uri": "https://localhost:8080/"
        },
        "id": "0860d16b-359f-4d6d-aa68-72a2e9fb6c39",
        "outputId": "015119b9-edac-4a69-d8ad-9ac583bb454b"
      },
      "outputs": [
        {
          "name": "stdout",
          "output_type": "stream",
          "text": [
            "<class 'pandas.core.frame.DataFrame'>\n",
            "RangeIndex: 201 entries, 0 to 200\n",
            "Data columns (total 10 columns):\n",
            " #   Column       Non-Null Count  Dtype  \n",
            "---  ------       --------------  -----  \n",
            " 0   curb-weight  201 non-null    int64  \n",
            " 1   engine-size  201 non-null    int64  \n",
            " 2   length       201 non-null    float64\n",
            " 3   width        201 non-null    float64\n",
            " 4   horsepower   201 non-null    float64\n",
            " 5   city-mpg     201 non-null    int64  \n",
            " 6   highway-mpg  201 non-null    int64  \n",
            " 7   wheel-base   201 non-null    float64\n",
            " 8   bore         201 non-null    float64\n",
            " 9   price        201 non-null    float64\n",
            "dtypes: float64(6), int64(4)\n",
            "memory usage: 15.8 KB\n"
          ]
        }
      ],
      "source": [
        "df.info()"
      ]
    },
    {
      "cell_type": "code",
      "execution_count": 9,
      "id": "afb78e41-1c9b-4ec3-bbba-05e365349d5a",
      "metadata": {
        "colab": {
          "base_uri": "https://localhost:8080/"
        },
        "id": "afb78e41-1c9b-4ec3-bbba-05e365349d5a",
        "outputId": "93d7f97e-d66e-4088-f091-34f19f701b7c"
      },
      "outputs": [
        {
          "name": "stdout",
          "output_type": "stream",
          "text": [
            "Missing value(s): 0\n"
          ]
        }
      ],
      "source": [
        "print('Missing value(s): ' + str(sum(df.isnull().sum())))"
      ]
    },
    {
      "cell_type": "markdown",
      "id": "3ca0404b-8d5e-4a52-a947-97abac0bc16a",
      "metadata": {
        "id": "3ca0404b-8d5e-4a52-a947-97abac0bc16a"
      },
      "source": [
        "Dữ liệu này không có missing value"
      ]
    },
    {
      "cell_type": "markdown",
      "id": "f2525870-afc2-47e1-8e31-b2bcfa236476",
      "metadata": {
        "id": "f2525870-afc2-47e1-8e31-b2bcfa236476"
      },
      "source": [
        "# Câu 3"
      ]
    },
    {
      "cell_type": "markdown",
      "id": "MjVR5wIXZpPv",
      "metadata": {
        "id": "MjVR5wIXZpPv"
      },
      "source": [
        "Phát triển mô hình Polynomial Regression bậc 3 để dự đoán giá xe từ biến `'highway-mpg'` (Tên mô hình poly)."
      ]
    },
    {
      "cell_type": "code",
      "execution_count": 10,
      "id": "b1adf3bd-49af-43b2-9518-0ad2cd80254e",
      "metadata": {
        "id": "b1adf3bd-49af-43b2-9518-0ad2cd80254e"
      },
      "outputs": [],
      "source": [
        "# X train Poly\n",
        "poly_features_c3 = PolynomialFeatures(degree=3)\n",
        "X_train_c3 = df[['highway-mpg']]\n",
        "X_train_c3_poly = poly_features_c3.fit_transform(X_train_c3)\n",
        "\n",
        "# Y train\n",
        "Y_train_c3 = df['price']"
      ]
    },
    {
      "cell_type": "markdown",
      "id": "fOBqwHcNZ0hH",
      "metadata": {
        "id": "fOBqwHcNZ0hH"
      },
      "source": [
        "Model"
      ]
    },
    {
      "cell_type": "code",
      "execution_count": 11,
      "id": "5467564a-b26c-44db-957c-ca507fe7aa8f",
      "metadata": {
        "colab": {
          "base_uri": "https://localhost:8080/"
        },
        "id": "5467564a-b26c-44db-957c-ca507fe7aa8f",
        "outputId": "de64d5cd-888e-47b9-e9a6-1a835e9853a0"
      },
      "outputs": [
        {
          "data": {
            "text/plain": [
              "LinearRegression()"
            ]
          },
          "execution_count": 11,
          "metadata": {},
          "output_type": "execute_result"
        }
      ],
      "source": [
        "p_lr_c3 = LinearRegression()\n",
        "p_lr_c3.fit(X_train_c3_poly, Y_train_c3)"
      ]
    },
    {
      "cell_type": "markdown",
      "id": "aebbff3f-8c19-4793-8d60-b7b71c88e60c",
      "metadata": {
        "id": "aebbff3f-8c19-4793-8d60-b7b71c88e60c"
      },
      "source": [
        "# Câu 4"
      ]
    },
    {
      "cell_type": "markdown",
      "id": "NMoa2-u5Z5Gl",
      "metadata": {
        "id": "NMoa2-u5Z5Gl"
      },
      "source": [
        "Tính MSE và R^2 để đánh giá tập mẫu của mô hình poly bằng phương pháp thủ công. Có thể phát họa Distribution Plot để đánh giá mô hình."
      ]
    },
    {
      "cell_type": "markdown",
      "id": "cf2519a3-13cf-44e8-8f81-0be7fffa6005",
      "metadata": {
        "id": "cf2519a3-13cf-44e8-8f81-0be7fffa6005"
      },
      "source": [
        "Hàm tính MSE và R^2 thủ công"
      ]
    },
    {
      "cell_type": "code",
      "execution_count": 14,
      "id": "7eef4f27-45a4-4e64-9c39-22b997f76b08",
      "metadata": {
        "id": "7eef4f27-45a4-4e64-9c39-22b997f76b08"
      },
      "outputs": [],
      "source": [
        "def my_mean_squared_error(actual, predicted):\n",
        "    sse = 0\n",
        "    n = len(actual)\n",
        "    for i in range(n):\n",
        "        sse += ((actual[i] - predicted[i]) ** 2)\n",
        "    \n",
        "    return sse / n\n",
        "\n",
        "def my_r2_score(actual, predicted, y_mean):\n",
        "    sse_model = my_mean_squared_error(actual, predicted)\n",
        "    sse_baseline = my_mean_squared_error(actual, y_mean)\n",
        "    r2 = 1 - sse_model / sse_baseline\n",
        "    \n",
        "    return r2"
      ]
    },
    {
      "cell_type": "markdown",
      "id": "4se_-3FvaDNU",
      "metadata": {
        "id": "4se_-3FvaDNU"
      },
      "source": [
        "Prediction"
      ]
    },
    {
      "cell_type": "code",
      "execution_count": 15,
      "id": "17898246-2c33-4048-93e4-9c6ea44ed1a3",
      "metadata": {
        "id": "17898246-2c33-4048-93e4-9c6ea44ed1a3"
      },
      "outputs": [],
      "source": [
        "Y_predicted_c3 = p_lr_c3.predict(X_train_c3_poly)\n",
        "Y_mean = [Y_train_c3.mean()] * len(Y_train_c3)"
      ]
    },
    {
      "cell_type": "code",
      "execution_count": 16,
      "id": "cc286cba-a7d2-4c9b-8707-46d1dd9afda9",
      "metadata": {
        "id": "cc286cba-a7d2-4c9b-8707-46d1dd9afda9"
      },
      "outputs": [],
      "source": [
        "mse = my_mean_squared_error(Y_train_c3, Y_predicted_c3)\n",
        "r_squared = my_r2_score(Y_train_c3, Y_predicted_c3, Y_mean)"
      ]
    },
    {
      "cell_type": "code",
      "execution_count": 18,
      "id": "0e3ab2fb-2952-417d-8802-b4cff6011e2e",
      "metadata": {
        "colab": {
          "base_uri": "https://localhost:8080/"
        },
        "id": "0e3ab2fb-2952-417d-8802-b4cff6011e2e",
        "outputId": "5b0e57b8-f381-4fea-97d3-9ead388a30db"
      },
      "outputs": [
        {
          "name": "stdout",
          "output_type": "stream",
          "text": [
            "MSE:  20474146.426361192\n",
            "R^2:  0.674194666390652\n"
          ]
        }
      ],
      "source": [
        "print('MSE: ', mse)\n",
        "print('R^2: ', r_squared)"
      ]
    },
    {
      "cell_type": "markdown",
      "id": "c3e62c93-7ce5-4e8b-b3fc-f7f67e25723f",
      "metadata": {
        "id": "c3e62c93-7ce5-4e8b-b3fc-f7f67e25723f"
      },
      "source": [
        "Distribution Plot"
      ]
    },
    {
      "cell_type": "code",
      "execution_count": 19,
      "id": "64f9c97c-df9e-41c2-9970-33901174f4c2",
      "metadata": {
        "colab": {
          "base_uri": "https://localhost:8080/",
          "height": 526
        },
        "id": "64f9c97c-df9e-41c2-9970-33901174f4c2",
        "outputId": "04868365-957e-4ee4-b4ab-dff3f55601ed"
      },
      "outputs": [
        {
          "name": "stderr",
          "output_type": "stream",
          "text": [
            "/usr/local/lib/python3.7/dist-packages/seaborn/distributions.py:2619: FutureWarning: `distplot` is a deprecated function and will be removed in a future version. Please adapt your code to use either `displot` (a figure-level function with similar flexibility) or `kdeplot` (an axes-level function for kernel density plots).\n",
            "  warnings.warn(msg, FutureWarning)\n",
            "/usr/local/lib/python3.7/dist-packages/seaborn/distributions.py:2619: FutureWarning: `distplot` is a deprecated function and will be removed in a future version. Please adapt your code to use either `displot` (a figure-level function with similar flexibility) or `kdeplot` (an axes-level function for kernel density plots).\n",
            "  warnings.warn(msg, FutureWarning)\n"
          ]
        },
        {
          "data": {
            "image/png": "[encoded data removed]",
            "text/plain": [
              "<Figure size 720x432 with 1 Axes>"
            ]
          },
          "metadata": {},
          "output_type": "display_data"
        }
      ],
      "source": [
        "plt.figure(figsize=(10, 6))\n",
        "sns.distplot(Y_train_c3, hist=False, label='Giá trị thực tế')\n",
        "sns.distplot(Y_predicted_c3, hist=False, label='Giá trị tiên đoán')\n",
        "plt.title('Distribution Plot cho `highway-mpg` và `price`')\n",
        "plt.ticklabel_format(style='plain')\n",
        "plt.tight_layout()\n",
        "plt.legend()\n",
        "plt.show();"
      ]
    },
    {
      "cell_type": "markdown",
      "id": "5d342a8b-e3fe-4c87-8baa-b8f4291137f0",
      "metadata": {
        "id": "5d342a8b-e3fe-4c87-8baa-b8f4291137f0"
      },
      "source": [
        "# Câu 5"
      ]
    },
    {
      "cell_type": "markdown",
      "id": "CrTUPZViaTLZ",
      "metadata": {
        "id": "CrTUPZViaTLZ"
      },
      "source": [
        "Phát triển mô hình hồi quy tuyến tính đa biến để dự đoán `price` từ biến `horsepower`, `curb-weight`, `engine-size`, `highway-mpg`."
      ]
    },
    {
      "cell_type": "code",
      "execution_count": 20,
      "id": "9d7b8788-806b-49f9-ad55-878640d1d051",
      "metadata": {
        "id": "9d7b8788-806b-49f9-ad55-878640d1d051"
      },
      "outputs": [],
      "source": [
        "X_train_c5 = df[['horsepower', 'curb-weight', 'engine-size', 'highway-mpg']]\n",
        "Y_train_c5 = df['price']"
      ]
    },
    {
      "cell_type": "code",
      "execution_count": 21,
      "id": "4b4ba23c-1870-49a6-bf73-d830661cdbc7",
      "metadata": {
        "colab": {
          "base_uri": "https://localhost:8080/"
        },
        "id": "4b4ba23c-1870-49a6-bf73-d830661cdbc7",
        "outputId": "254223b0-f27d-4e5c-e928-70b50b4be24c"
      },
      "outputs": [
        {
          "data": {
            "text/plain": [
              "LinearRegression()"
            ]
          },
          "execution_count": 21,
          "metadata": {},
          "output_type": "execute_result"
        }
      ],
      "source": [
        "lr_c5 = LinearRegression()\n",
        "lr_c5.fit(X_train_c5, Y_train_c5)"
      ]
    },
    {
      "cell_type": "code",
      "execution_count": 22,
      "id": "643f3779-ed29-47a1-834f-e8495d352e47",
      "metadata": {
        "id": "643f3779-ed29-47a1-834f-e8495d352e47"
      },
      "outputs": [],
      "source": [
        "Y_predicted_c5 = lr_c5.predict(X_train_c5)"
      ]
    },
    {
      "cell_type": "code",
      "execution_count": 24,
      "id": "uXFIrBJkanN2",
      "metadata": {
        "colab": {
          "base_uri": "https://localhost:8080/"
        },
        "id": "uXFIrBJkanN2",
        "outputId": "24c1c3a2-6ce0-436a-cca7-c923dc5afb86"
      },
      "outputs": [
        {
          "data": {
            "text/plain": [
              "array([13699.11161184, 13699.11161184, 19051.65470233, 10620.36193015,\n",
              "       15521.31420211, 13869.66673213, 15456.16196732, 15974.00907672,\n",
              "       17612.35917161, 10722.32509097, 10722.32509097, 17804.80307397,\n",
              "       18063.72662867, 19320.78745066, 26968.56492801, 27674.72007721,\n",
              "       28191.0677239 ,   650.62317688,  5648.50489642,  5813.27443123,\n",
              "        5478.81383232,  5370.64136587,  8739.61952024,  5799.04215638,\n",
              "        5902.61157827,  5902.61157827,  9036.2046829 , 11863.43973759,\n",
              "       18767.70667001,  4808.3090102 ,  5693.32889063,  4006.47212651,\n",
              "        6118.73075572,  6194.05397163,  6448.26982534,  6514.17763926,\n",
              "        9478.65495235,  9728.16310506,  9798.77861998, 10118.90228761,\n",
              "       11178.86719942, 10423.81935057,  9463.46710755, 12626.61544369,\n",
              "       34470.03895495, 34470.03895495, 43996.52260522,  5265.67702191,\n",
              "        5565.15645357,  5588.69495854,  5777.00299832,  5800.5415033 ,\n",
              "        7337.21461795,  7337.21461795,  7360.75312292, 10536.2966792 ,\n",
              "       11015.41658913, 11133.109114  , 11015.41658913, 11133.109114  ,\n",
              "       10579.12325046, 11203.72462892, 15570.21546943, 13087.15905929,\n",
              "       23142.39640924, 24248.70614297, 23048.24238935, 24342.86016287,\n",
              "       29819.13398143, 29560.21042672, 38084.86726826, 36887.82152897,\n",
              "       19534.15717412,  5839.59780174,  5853.82556115,  6136.28762083,\n",
              "        8819.65043715, 11606.18674596, 10961.06060934, 18871.2760919 ,\n",
              "       19285.55377942, 19309.0922844 , 11135.24554614, 11323.55358593,\n",
              "       11761.54087878, 11761.54087878,  6019.99158096,  6831.56582665,\n",
              "        6156.51490981,  6250.6689297 ,  6655.53121524,  6311.86904263,\n",
              "        6674.36201921,  6406.02306252,  6716.73132817,  6580.20799932,\n",
              "       11332.74595339, 11229.17653151, 22445.30557997, 23391.55347988,\n",
              "       22388.7085116 , 22868.45917635, 25256.2976354 , 23188.58284399,\n",
              "       14248.73095747, 17908.4883867 , 15237.34816634, 18716.92280791,\n",
              "       14400.66302373, 18167.4119414 , 15389.2802326 , 18975.84636261,\n",
              "       14507.65451218, 18167.4119414 , 18315.31025055,  5676.5372741 ,\n",
              "        8739.61952024,  5799.04215638,  5902.61157827,  7505.80928975,\n",
              "       11863.43973759, 18800.66057698, 18205.88219608, 24959.72677135,\n",
              "       24959.72677135, 25166.86561511, 13791.57395935, 13231.35754099,\n",
              "       13465.74809145, 13639.93302825, 13696.42544019, 13936.51819091,\n",
              "       16774.57547431, 16958.1758131 ,  6741.87395228,  8001.94145676,\n",
              "        8566.86557611,  8817.44061256,  8885.05720205, 10197.10379314,\n",
              "        9514.59898547, 11798.66814761,  9319.76981269, 10702.4319187 ,\n",
              "        9823.59847554, 12241.40135396,  5761.92432539,  5984.79039128,\n",
              "        5867.09786641,  7078.58114117,  6945.37070703, 10805.68552262,\n",
              "        7058.89617998,  7190.71180783,  8165.5554308 ,  8562.18780779,\n",
              "        7480.67118107,  7143.73945431,  7228.47807221,  7365.00140105,\n",
              "        7529.77093586,  9883.47450995, 10048.24404476, 15341.58541261,\n",
              "       15322.75460863, 15393.37012355, 15995.95585086, 16160.72538567,\n",
              "       17389.43534526, 11237.74316189,  9931.88932009, 11579.90587178,\n",
              "       11579.90587178, 11787.04471555, 21623.36319906, 21811.67123885,\n",
              "       22085.5781321 , 21364.42951378,  7186.34609846,  9252.57850626,\n",
              "        7200.46920145,  9266.70160925,  9563.28677191,  8171.0947085 ,\n",
              "       10411.30048253,  9551.61632807,  9396.26219524, 14558.59519649,\n",
              "        9250.86701184, 10971.41942458, 16506.09239741, 17080.43191875,\n",
              "       16614.36952029, 17118.09352671, 18586.83451761, 19114.09702901,\n",
              "       16694.4004372 , 19503.67920162, 20475.45837959, 17804.03881343,\n",
              "       17104.07508015])"
            ]
          },
          "execution_count": 24,
          "metadata": {},
          "output_type": "execute_result"
        }
      ],
      "source": [
        "Y_predicted_c5"
      ]
    },
    {
      "cell_type": "markdown",
      "id": "b5570f21-39b1-49cc-8b3a-e7955fb2a632",
      "metadata": {
        "id": "b5570f21-39b1-49cc-8b3a-e7955fb2a632"
      },
      "source": [
        "# Câu 6"
      ]
    },
    {
      "cell_type": "markdown",
      "id": "4V5q0aSqay3I",
      "metadata": {
        "id": "4V5q0aSqay3I"
      },
      "source": [
        "Tính MSE và R^2 để đánh giá tập mẫu của mô hình trên bằng phương pháp thủ công và gọi hàm. Có thể phát họa distribution plot để đánh giá mô hình được không?"
      ]
    },
    {
      "cell_type": "markdown",
      "id": "fce0319b-0301-48cc-8fea-dc5f011e63e1",
      "metadata": {
        "id": "fce0319b-0301-48cc-8fea-dc5f011e63e1"
      },
      "source": [
        "MSE"
      ]
    },
    {
      "cell_type": "code",
      "execution_count": 25,
      "id": "5bb26bee-2d8f-48b9-a41c-f19f183f2326",
      "metadata": {
        "colab": {
          "base_uri": "https://localhost:8080/"
        },
        "id": "5bb26bee-2d8f-48b9-a41c-f19f183f2326",
        "outputId": "90f1cd95-45e2-4e64-8367-24294c679f9e"
      },
      "outputs": [
        {
          "name": "stdout",
          "output_type": "stream",
          "text": [
            "MSE phương pháp thủ công:  11980366.870726483\n",
            "MSE phương gọi hàm:  11980366.87072649\n"
          ]
        }
      ],
      "source": [
        "print(\"MSE phương pháp thủ công: \", my_mean_squared_error(Y_train_c5, Y_predicted_c5))\n",
        "print(\"MSE phương gọi hàm: \", mean_squared_error(Y_train_c5, Y_predicted_c5))"
      ]
    },
    {
      "cell_type": "markdown",
      "id": "eda7280c-6b94-4fff-bcdd-6e03bf3b62b6",
      "metadata": {
        "id": "eda7280c-6b94-4fff-bcdd-6e03bf3b62b6"
      },
      "source": [
        "R^2"
      ]
    },
    {
      "cell_type": "code",
      "execution_count": 26,
      "id": "93bcf6cf-e6c9-49bf-9694-f75da11e13c2",
      "metadata": {
        "colab": {
          "base_uri": "https://localhost:8080/"
        },
        "id": "93bcf6cf-e6c9-49bf-9694-f75da11e13c2",
        "outputId": "237546df-72f1-4550-9b0e-093659f4a415"
      },
      "outputs": [
        {
          "name": "stdout",
          "output_type": "stream",
          "text": [
            "R2 phương pháp thủ công:  0.8093562806577457\n",
            "R2 phương gọi hàm:  0.8093562806577457\n"
          ]
        }
      ],
      "source": [
        "Y_mean = [Y_train_c5.mean()] * len(Y_train_c5)\n",
        "print(\"R2 phương pháp thủ công: \", my_r2_score(Y_train_c5, Y_predicted_c5, Y_mean))\n",
        "print(\"R2 phương gọi hàm: \", r2_score(Y_train_c5, Y_predicted_c5))"
      ]
    },
    {
      "cell_type": "markdown",
      "id": "c1d77b05-92f4-4105-8923-976f936cfc31",
      "metadata": {
        "id": "c1d77b05-92f4-4105-8923-976f936cfc31"
      },
      "source": [
        "Distribution Plot"
      ]
    },
    {
      "cell_type": "code",
      "execution_count": 27,
      "id": "f074a9b3-8f76-4d11-ade2-8c14d0ecb726",
      "metadata": {
        "colab": {
          "base_uri": "https://localhost:8080/",
          "height": 526
        },
        "id": "f074a9b3-8f76-4d11-ade2-8c14d0ecb726",
        "outputId": "8cb563c6-d455-438c-e941-3eddb936cbb2"
      },
      "outputs": [
        {
          "name": "stderr",
          "output_type": "stream",
          "text": [
            "/usr/local/lib/python3.7/dist-packages/seaborn/distributions.py:2619: FutureWarning: `distplot` is a deprecated function and will be removed in a future version. Please adapt your code to use either `displot` (a figure-level function with similar flexibility) or `kdeplot` (an axes-level function for kernel density plots).\n",
            "  warnings.warn(msg, FutureWarning)\n",
            "/usr/local/lib/python3.7/dist-packages/seaborn/distributions.py:2619: FutureWarning: `distplot` is a deprecated function and will be removed in a future version. Please adapt your code to use either `displot` (a figure-level function with similar flexibility) or `kdeplot` (an axes-level function for kernel density plots).\n",
            "  warnings.warn(msg, FutureWarning)\n"
          ]
        },
        {
          "data": {
            "image/png": "[encoded data removed]",
            "text/plain": [
              "<Figure size 720x432 with 1 Axes>"
            ]
          },
          "metadata": {},
          "output_type": "display_data"
        }
      ],
      "source": [
        "plt.figure(figsize=(10, 6))\n",
        "sns.distplot(Y_train_c5, hist=False, label='Giá trị thực tế')\n",
        "sns.distplot(Y_predicted_c5, hist=False, label='Giá trị tiên đoán')\n",
        "plt.title('Distribution Plot vơis `horsepower`, `curb-weight`, `engine-size` và `highway-mpg` dự đoán `price`')\n",
        "plt.ticklabel_format(style='plain')\n",
        "plt.tight_layout()\n",
        "plt.legend()\n",
        "plt.show();"
      ]
    },
    {
      "cell_type": "markdown",
      "id": "61854456-7cde-4c27-8d2b-6997c9b8df1b",
      "metadata": {
        "id": "61854456-7cde-4c27-8d2b-6997c9b8df1b",
        "tags": []
      },
      "source": [
        "# Câu 7"
      ]
    },
    {
      "cell_type": "markdown",
      "id": "Twsvh2UGbHgA",
      "metadata": {
        "id": "Twsvh2UGbHgA"
      },
      "source": [
        "Phát triển mô hình Polynomial Regression bậc 2 để dự đoán giá xe từ biến `horsepower`, `curb-weight`, `engine-size`, `highway-mpg`."
      ]
    },
    {
      "cell_type": "code",
      "execution_count": 28,
      "id": "f40c0edd-5186-4430-973d-4ceb2fc5acd1",
      "metadata": {
        "id": "f40c0edd-5186-4430-973d-4ceb2fc5acd1"
      },
      "outputs": [],
      "source": [
        "poly_features_c7 = PolynomialFeatures(degree=2)\n",
        "X_train_c7 = df[['horsepower', 'curb-weight', 'engine-size', 'highway-mpg']]\n",
        "X_train_c7_poly = poly_features_c7.fit_transform(X_train_c7)\n",
        "Y_train_c7 = df['price']"
      ]
    },
    {
      "cell_type": "markdown",
      "id": "2581e6f5-656d-484d-8d78-d87f2aef64d4",
      "metadata": {
        "id": "2581e6f5-656d-484d-8d78-d87f2aef64d4"
      },
      "source": [
        "Model"
      ]
    },
    {
      "cell_type": "code",
      "execution_count": 29,
      "id": "713a7ba3-04ef-438f-96b6-1ce907574f54",
      "metadata": {
        "colab": {
          "base_uri": "https://localhost:8080/"
        },
        "id": "713a7ba3-04ef-438f-96b6-1ce907574f54",
        "outputId": "add5c669-d07f-4d6e-ff27-8ab57b7c3796"
      },
      "outputs": [
        {
          "data": {
            "text/plain": [
              "LinearRegression()"
            ]
          },
          "execution_count": 29,
          "metadata": {},
          "output_type": "execute_result"
        }
      ],
      "source": [
        "p_lr_c7 = LinearRegression()\n",
        "p_lr_c7.fit(X_train_c7_poly, Y_train_c7)"
      ]
    },
    {
      "cell_type": "code",
      "execution_count": 30,
      "id": "8479f458-3245-43ac-86d0-1cae7662d768",
      "metadata": {
        "id": "8479f458-3245-43ac-86d0-1cae7662d768"
      },
      "outputs": [],
      "source": [
        "Y_predicted_c7 = p_lr_c7.predict(X_train_c7_poly)"
      ]
    },
    {
      "cell_type": "markdown",
      "id": "208cec54-32a1-418f-b7fb-165af56afe5e",
      "metadata": {
        "id": "208cec54-32a1-418f-b7fb-165af56afe5e"
      },
      "source": [
        "# Câu 8"
      ]
    },
    {
      "cell_type": "markdown",
      "id": "RVMA0LlvbS_N",
      "metadata": {
        "id": "RVMA0LlvbS_N"
      },
      "source": [
        "Tính MSE và R^2 để đánh giá tập mẫu của mô hình trên bằng phương pháp thủ công và gọi hàm. Có thể phát họa **Distribution Plot** để đánh giá mô hình được không?"
      ]
    },
    {
      "cell_type": "markdown",
      "id": "b7580c43-99ca-4272-8cc9-0c4624ed66de",
      "metadata": {
        "id": "b7580c43-99ca-4272-8cc9-0c4624ed66de"
      },
      "source": [
        "MSE"
      ]
    },
    {
      "cell_type": "code",
      "execution_count": 31,
      "id": "470b0d4d-cbf0-4c27-8b8e-00da49179a79",
      "metadata": {
        "colab": {
          "base_uri": "https://localhost:8080/"
        },
        "id": "470b0d4d-cbf0-4c27-8b8e-00da49179a79",
        "outputId": "a79661aa-3f22-4660-de39-6c9d1fddc96c"
      },
      "outputs": [
        {
          "name": "stdout",
          "output_type": "stream",
          "text": [
            "MSE phương pháp thủ công:  9656613.403989585\n",
            "MSE phương gọi hàm:  9656613.40398959\n"
          ]
        }
      ],
      "source": [
        "print(\"MSE phương pháp thủ công: \", my_mean_squared_error(Y_train_c7, Y_predicted_c7))\n",
        "print(\"MSE phương gọi hàm: \", mean_squared_error(Y_train_c7, Y_predicted_c7))"
      ]
    },
    {
      "cell_type": "markdown",
      "id": "7c7ab41b-dd51-423e-af20-0fe88b993453",
      "metadata": {
        "id": "7c7ab41b-dd51-423e-af20-0fe88b993453"
      },
      "source": [
        "R^2"
      ]
    },
    {
      "cell_type": "code",
      "execution_count": 33,
      "id": "15a36a1d-5830-41cc-8c94-dfe3648ed240",
      "metadata": {
        "colab": {
          "base_uri": "https://localhost:8080/"
        },
        "id": "15a36a1d-5830-41cc-8c94-dfe3648ed240",
        "outputId": "9ce5ee4b-9171-49d8-f953-62a33a408b80"
      },
      "outputs": [
        {
          "name": "stdout",
          "output_type": "stream",
          "text": [
            "R2 phương pháp thủ công:  0.8463341969864729\n",
            "R2 phương gọi hàm:  0.8463341969864729\n"
          ]
        }
      ],
      "source": [
        "Y_mean = [Y_train_c7.mean()] * len(Y_train_c7)\n",
        "print(\"R2 phương pháp thủ công: \", my_r2_score(Y_train_c7, Y_predicted_c7, Y_mean))\n",
        "print(\"R2 phương gọi hàm: \", r2_score(Y_train_c7, Y_predicted_c7))"
      ]
    },
    {
      "cell_type": "markdown",
      "id": "f501857a-78a6-45b5-a689-537d732277fb",
      "metadata": {
        "id": "f501857a-78a6-45b5-a689-537d732277fb"
      },
      "source": [
        "Distribution Plot"
      ]
    },
    {
      "cell_type": "code",
      "execution_count": 34,
      "id": "2e2c6049-687e-4618-8bfd-b1fe286b1270",
      "metadata": {
        "colab": {
          "base_uri": "https://localhost:8080/",
          "height": 526
        },
        "id": "2e2c6049-687e-4618-8bfd-b1fe286b1270",
        "outputId": "149eba94-3557-4dfd-dca8-f684c412c5ce"
      },
      "outputs": [
        {
          "name": "stderr",
          "output_type": "stream",
          "text": [
            "/usr/local/lib/python3.7/dist-packages/seaborn/distributions.py:2619: FutureWarning: `distplot` is a deprecated function and will be removed in a future version. Please adapt your code to use either `displot` (a figure-level function with similar flexibility) or `kdeplot` (an axes-level function for kernel density plots).\n",
            "  warnings.warn(msg, FutureWarning)\n",
            "/usr/local/lib/python3.7/dist-packages/seaborn/distributions.py:2619: FutureWarning: `distplot` is a deprecated function and will be removed in a future version. Please adapt your code to use either `displot` (a figure-level function with similar flexibility) or `kdeplot` (an axes-level function for kernel density plots).\n",
            "  warnings.warn(msg, FutureWarning)\n"
          ]
        },
        {
          "data": {
            "image/png": "[encoded data removed]",
            "text/plain": [
              "<Figure size 720x432 with 1 Axes>"
            ]
          },
          "metadata": {},
          "output_type": "display_data"
        }
      ],
      "source": [
        "plt.figure(figsize=(10, 6))\n",
        "sns.distplot(Y_train_c7, hist=False, label='Giá trị thực tế')\n",
        "sns.distplot(Y_predicted_c7, hist=False, label='Giá trị tiên đoán')\n",
        "plt.title('Distribution PLot cho `horsepower`, `curb-weight`, `engine-size` và `highway-mpg` dự đoán `price`')\n",
        "plt.ticklabel_format(style='plain')\n",
        "plt.tight_layout()\n",
        "plt.legend()\n",
        "plt.show();"
      ]
    },
    {
      "cell_type": "markdown",
      "id": "0ed4f0db-3db2-4c5d-8248-7506f04a11f5",
      "metadata": {
        "id": "0ed4f0db-3db2-4c5d-8248-7506f04a11f5",
        "tags": []
      },
      "source": [
        "# Câu 9"
      ]
    },
    {
      "cell_type": "markdown",
      "id": "cbLVzJ__bjtX",
      "metadata": {
        "id": "cbLVzJ__bjtX"
      },
      "source": [
        "Thiết kế một *pipeline* để phát triển mô hình mô hình **Polynomial Regression bậc 2** để dự đoán giá xe từ biến `horsepower`, `curb-weight`, '`engine-size`, `highway-mpg`. Trong *pipeline* thực hiện các công việc sau:\n",
        "* __Normalize__\n",
        "* __Transformation $\\Rightarrow$ Feature__\n",
        "* __LinearRegression để Fit tìm mô hình. Xuất mô hình vừa tìm được__"
      ]
    },
    {
      "cell_type": "code",
      "execution_count": 35,
      "id": "04824ed7-e596-4909-b679-f2a2532b9575",
      "metadata": {
        "id": "04824ed7-e596-4909-b679-f2a2532b9575"
      },
      "outputs": [],
      "source": [
        "X_train_c9 = df[['horsepower', 'curb-weight', 'engine-size', 'highway-mpg']]\n",
        "Y_train_c9 = df['price']"
      ]
    },
    {
      "cell_type": "code",
      "execution_count": 36,
      "id": "be2ff7ea-da2c-4ade-82bd-6fdfc4e36008",
      "metadata": {
        "id": "be2ff7ea-da2c-4ade-82bd-6fdfc4e36008"
      },
      "outputs": [],
      "source": [
        "pipeline = Pipeline([\n",
        "    ('scaler', StandardScaler()),\n",
        "    ('transform', PolynomialFeatures(degree=2)),\n",
        "    ('model', LinearRegression())]\n",
        ")"
      ]
    },
    {
      "cell_type": "code",
      "execution_count": 37,
      "id": "5691e984-d2e8-490b-9fe6-fbdf42c3c731",
      "metadata": {
        "colab": {
          "base_uri": "https://localhost:8080/"
        },
        "id": "5691e984-d2e8-490b-9fe6-fbdf42c3c731",
        "outputId": "fdbafb42-99f0-4034-b9fd-014ee3135acd"
      },
      "outputs": [
        {
          "data": {
            "text/plain": [
              "Pipeline(steps=[('scaler', StandardScaler()),\n",
              "                ('transform', PolynomialFeatures()),\n",
              "                ('model', LinearRegression())])"
            ]
          },
          "execution_count": 37,
          "metadata": {},
          "output_type": "execute_result"
        }
      ],
      "source": [
        "pipeline.fit(X_train_c9, Y_train_c9)"
      ]
    },
    {
      "cell_type": "code",
      "execution_count": 38,
      "id": "a4939968-b65f-44cc-8564-09501dd29d1d",
      "metadata": {
        "id": "a4939968-b65f-44cc-8564-09501dd29d1d"
      },
      "outputs": [],
      "source": [
        "Y_predicted_c9 = pipeline.predict(X_train_c9)"
      ]
    },
    {
      "cell_type": "code",
      "execution_count": 39,
      "id": "b42d1ee8-c70e-4d8e-a31c-3c4783b46cdd",
      "metadata": {
        "colab": {
          "base_uri": "https://localhost:8080/"
        },
        "id": "b42d1ee8-c70e-4d8e-a31c-3c4783b46cdd",
        "outputId": "22c6cd88-76b7-474a-d8b1-1691d93e53c6"
      },
      "outputs": [
        {
          "data": {
            "text/plain": [
              "array([13102.74784201, 13102.74784201, 18225.54572197, 10390.29636555,\n",
              "       16136.29619164, 13880.09787302, 15041.58694037, 15457.93465485,\n",
              "       17974.49032347, 10510.56542385, 10510.56542385, 15845.70697835,\n",
              "       16068.03816037, 18547.43547305, 25222.41976123, 25176.06409341,\n",
              "       26518.01037743,  5896.19728097,  6225.67595805,  6265.22601565,\n",
              "        5976.20889391,  5832.72306295, 10109.23396371,  6061.05969767,\n",
              "        6118.14411398,  6118.14411398, 10042.92800648, 11301.10641037,\n",
              "       18336.04622938,  7336.72885437,  6420.49643279,  5174.21296336,\n",
              "        6619.35236359,  6652.09244229,  6765.45204951,  6795.56233742,\n",
              "        8796.64497511,  8948.23637645,  8991.91184621,  9194.18038695,\n",
              "       10928.27635866, 10052.96792101,  9660.68466801, 12124.39546671,\n",
              "       36318.61803898, 36318.61803898, 41642.8179005 ,  5912.27956733,\n",
              "        5928.15567673,  5941.11734652,  6046.17348651,  6059.47585172,\n",
              "       10195.17246527, 10195.17246527, 10183.58560528, 15943.91103394,\n",
              "       10255.79037208, 10380.12258884, 10255.79037208, 10380.12258884,\n",
              "       10840.99181324, 10455.17617947, 14409.33460485, 13374.99392567,\n",
              "       23845.18430719, 25660.83650127, 23694.52193108, 25819.22130713,\n",
              "       33467.88380606, 32977.3323232 , 43675.1876574 , 40887.93971531,\n",
              "       21725.64934084,  6133.16487359,  6085.05002803,  6253.80059193,\n",
              "       10090.74982707, 11854.93594171, 10016.61577698, 18326.329704  ,\n",
              "       18294.79233972, 18293.35249597, 10170.11422978, 10338.39037401,\n",
              "       11789.53215232, 11789.53215232,  6142.17917544,  7983.88787635,\n",
              "        6237.02226217,  6303.17324643,  6594.52421107,  6346.49618251,\n",
              "        6608.34797507,  6413.64654004,  6639.54002489,  6539.47142737,\n",
              "        9873.86832774,  9834.0864611 , 21542.40070894, 21943.92002198,\n",
              "       19962.95857269, 20356.0183024 , 26222.11317103, 20341.71353538,\n",
              "       14818.06559816, 17551.99876768, 15859.21897961, 22522.92300522,\n",
              "       15235.77892428, 17955.44126309, 16372.90437956, 23030.2532818 ,\n",
              "       15084.294341  , 17955.44126309, 16250.91973598,  6055.84397892,\n",
              "       10109.23396371,  6061.05969767,  6118.14411398,  7233.51510587,\n",
              "       11301.10641037, 18332.87511207, 16673.92477798, 29495.55178338,\n",
              "       29495.55178338, 29142.08639481, 12016.62613202, 11697.23318166,\n",
              "       12342.34351684, 12386.49919971, 12401.26513708, 12466.45293627,\n",
              "       18242.95384024, 17949.00448273,  6700.20551188,  7997.30024417,\n",
              "        8636.26729049,  7944.41290334,  8390.53558175,  9428.00408123,\n",
              "       10474.44703897, 11297.44802676,  8851.7365991 ,  9797.87067058,\n",
              "        9844.28010745, 13096.77282426,  6056.63496474,  6245.63877429,\n",
              "        6145.27113649,  7292.72653992,  7665.13318655, 12736.87506656,\n",
              "        6871.06981567,  6968.66287912,  9283.38827884,  9464.77139239,\n",
              "        7169.3719601 ,  7136.3122441 ,  7210.40024787,  7330.79618254,\n",
              "        7477.79752708, 11470.87491749, 11381.87464018, 13425.15063307,\n",
              "       13416.04571804, 13450.31407106, 13756.595326  , 13844.6633676 ,\n",
              "       14559.88992624,  9806.11748135,  9879.53213034, 10407.28472047,\n",
              "       10407.28472047, 10562.89821641, 20451.82473939, 20392.24997134,\n",
              "       19935.66449178, 19170.99696916,  8417.3909446 ,  8516.96887281,\n",
              "        8433.178976  ,  8524.96214343,  8695.96885206,  7520.25782581,\n",
              "        9838.62475227,  9575.08567915,  9484.96194069, 14720.52537862,\n",
              "        8713.09236566, 10070.069151  , 14626.38856972, 15008.62680132,\n",
              "       14696.7259568 , 15034.47898838, 19307.91162797, 18667.09940953,\n",
              "       14749.22928895, 18027.49072084, 19827.65641803, 17324.32982519,\n",
              "       16292.72734879])"
            ]
          },
          "execution_count": 39,
          "metadata": {},
          "output_type": "execute_result"
        }
      ],
      "source": [
        "Y_predicted_c9"
      ]
    },
    {
      "cell_type": "markdown",
      "id": "928c2bb8-421b-4cc5-a266-9fbac58a98f7",
      "metadata": {
        "id": "928c2bb8-421b-4cc5-a266-9fbac58a98f7"
      },
      "source": [
        "__Score:__"
      ]
    },
    {
      "cell_type": "code",
      "execution_count": 40,
      "id": "21e2f300-38e0-426d-b0e4-9c89cecc8c9e",
      "metadata": {
        "colab": {
          "base_uri": "https://localhost:8080/"
        },
        "id": "21e2f300-38e0-426d-b0e4-9c89cecc8c9e",
        "outputId": "c866eaeb-a9bd-4f2c-ec2c-16e4cf2042c7"
      },
      "outputs": [
        {
          "name": "stdout",
          "output_type": "stream",
          "text": [
            "Training Set Score:  0.8463341969864728\n",
            "Training MSE:  9656613.403989598\n",
            "Training R-Squared:  0.8463341969864728\n"
          ]
        }
      ],
      "source": [
        "print('Training Set Score: ', pipeline.score(X_train_c9, Y_train_c9))\n",
        "print('Training MSE: ', mean_squared_error(Y_train_c9, Y_predicted_c9))\n",
        "print('Training R-Squared: ', r2_score(Y_train_c9, Y_predicted_c9))"
      ]
    },
    {
      "cell_type": "markdown",
      "id": "6d849752-dcd0-405b-95ff-9eaeb36ba3e2",
      "metadata": {
        "id": "6d849752-dcd0-405b-95ff-9eaeb36ba3e2"
      },
      "source": [
        "# Câu 10"
      ]
    },
    {
      "cell_type": "markdown",
      "id": "UWW137GnbqL_",
      "metadata": {
        "id": "UWW137GnbqL_"
      },
      "source": [
        "Tìm khoảng giá trị chặn của các mô hình."
      ]
    },
    {
      "cell_type": "code",
      "execution_count": 41,
      "id": "b8fb2b2a-50a2-41fc-9a99-3052a9a1a67e",
      "metadata": {
        "colab": {
          "base_uri": "https://localhost:8080/"
        },
        "id": "b8fb2b2a-50a2-41fc-9a99-3052a9a1a67e",
        "outputId": "8542e8b4-9a14-430a-b499-050b457ab444"
      },
      "outputs": [
        {
          "name": "stdout",
          "output_type": "stream",
          "text": [
            "Giá trị Y (`price`) chặn dưới của mô hình p3_lr (Polynominal 3 Regression) - câu 3 là:  5739.271085866087\n",
            "Giá trị Y (`price`) chặn trên của mô hình p3_lr (Polynominal 3 Regression) - câu 3 là:  40517.7757856602\n",
            "Giá trị X (`highway-mpg`) chặn dưới của mô hình p3_lr (Polynominal 3 Regression) - câu 3 là:  16\n",
            "Giá trị X (`highway-mpg`) chặn trên của mô hình p3_lr (Polynominal 3 Regression) - câu 3 là:  54\n"
          ]
        }
      ],
      "source": [
        "print('Giá trị Y (`price`) chặn dưới của mô hình p3_lr (Polynominal 3 Regression) - câu 3 là: ',\n",
        "      Y_predicted_c3.min())\n",
        "print('Giá trị Y (`price`) chặn trên của mô hình p3_lr (Polynominal 3 Regression) - câu 3 là: ',\n",
        "      Y_predicted_c3.max())\n",
        "\n",
        "print('Giá trị X (`highway-mpg`) chặn dưới của mô hình p3_lr (Polynominal 3 Regression) - câu 3 là: ',\n",
        "      X_train_c3['highway-mpg'].min())\n",
        "print('Giá trị X (`highway-mpg`) chặn trên của mô hình p3_lr (Polynominal 3 Regression) - câu 3 là: ',\n",
        "      X_train_c3['highway-mpg'].max())"
      ]
    },
    {
      "cell_type": "markdown",
      "id": "aa853abe-daf7-4e5c-8d94-35b0e6b1d73b",
      "metadata": {
        "id": "aa853abe-daf7-4e5c-8d94-35b0e6b1d73b"
      },
      "source": [
        "## Câu 11"
      ]
    },
    {
      "cell_type": "markdown",
      "id": "DnPtI16GbtG_",
      "metadata": {
        "id": "DnPtI16GbtG_"
      },
      "source": [
        "Xếp hạng các mô hình đã phát triển các câu trên."
      ]
    },
    {
      "cell_type": "code",
      "execution_count": 42,
      "id": "9feff7fe-d9cc-45bb-b526-b91fa6b1570e",
      "metadata": {
        "id": "9feff7fe-d9cc-45bb-b526-b91fa6b1570e"
      },
      "outputs": [],
      "source": [
        "names = [\n",
        "    'Câu 3',\n",
        "    'Câu 5',\n",
        "    'Câu 7',\n",
        "    'Câu 9'\n",
        "]\n",
        "model_names = [\n",
        "    'Polynomial Linear Regression',\n",
        "    'Multivariable Linear Regression',\n",
        "    'Multivariable Linear Regression bậc 2',\n",
        "    'Multivariable Linear Regression Pipeline bậc 2'\n",
        "]\n",
        "used_features = [\n",
        "    '`highway-mpg`',\n",
        "    '`horsepower`, `curb-weight`, `engine-size`, `highway-mpg`',\n",
        "    '`horsepower`, `curb-weight`, `engine-size`, `highway-mpg`',\n",
        "    '`horsepower`, `curb-weight`, `engine-size`, `highway-mpg`'\n",
        "]\n",
        "models = [\n",
        "    p_lr_c3,\n",
        "    lr_c5,\n",
        "    p_lr_c7,\n",
        "    pipeline\n",
        "]\n",
        "mses = [\n",
        "    mean_squared_error(Y_train_c3, Y_predicted_c3),\n",
        "    mean_squared_error(Y_train_c5, Y_predicted_c5),\n",
        "    mean_squared_error(Y_train_c7, Y_predicted_c7),\n",
        "    mean_squared_error(Y_train_c9, Y_predicted_c9)\n",
        "]\n",
        "r2s = [\n",
        "    r2_score(Y_train_c3, Y_predicted_c3),\n",
        "    r2_score(Y_train_c5, Y_predicted_c5),\n",
        "    r2_score(Y_train_c7, Y_predicted_c7),\n",
        "    r2_score(Y_train_c9, Y_predicted_c9)\n",
        "]"
      ]
    },
    {
      "cell_type": "code",
      "execution_count": 43,
      "id": "c760bda6-c71f-4d1d-9d23-ec46e7768db3",
      "metadata": {
        "id": "c760bda6-c71f-4d1d-9d23-ec46e7768db3"
      },
      "outputs": [],
      "source": [
        "model_comparison = pd.DataFrame({'Câu': names,\n",
        "                                 'Tên Model': model_names,\n",
        "                                 'Các features sử dụng': used_features,\n",
        "                                 'Model': models,\n",
        "                                 'MSE': mses,\n",
        "                                 'R2': r2s})"
      ]
    },
    {
      "cell_type": "code",
      "execution_count": 44,
      "id": "242ae206-0694-4f5a-ae0a-7b22b89f3aee",
      "metadata": {
        "colab": {
          "base_uri": "https://localhost:8080/",
          "height": 175
        },
        "id": "242ae206-0694-4f5a-ae0a-7b22b89f3aee",
        "outputId": "645e6086-f322-454b-9574-43d5a3615cae"
      },
      "outputs": [
        {
          "data": {
            "text/html": [
              "\n",
              "  <div id=\"df-51e0599d-7828-4a1c-b319-2270c4c15635\">\n",
              "    <div class=\"colab-df-container\">\n",
              "      <div>\n",
              "<style scoped>\n",
              "    .dataframe tbody tr th:only-of-type {\n",
              "        vertical-align: middle;\n",
              "    }\n",
              "\n",
              "    .dataframe tbody tr th {\n",
              "        vertical-align: top;\n",
              "    }\n",
              "\n",
              "    .dataframe thead th {\n",
              "        text-align: right;\n",
              "    }\n",
              "</style>\n",
              "<table border=\"1\" class=\"dataframe\">\n",
              "  <thead>\n",
              "    <tr style=\"text-align: right;\">\n",
              "      <th></th>\n",
              "      <th>Câu</th>\n",
              "      <th>Tên Model</th>\n",
              "      <th>Các features sử dụng</th>\n",
              "      <th>Model</th>\n",
              "      <th>MSE</th>\n",
              "      <th>R2</th>\n",
              "    </tr>\n",
              "  </thead>\n",
              "  <tbody>\n",
              "    <tr>\n",
              "      <th>0</th>\n",
              "      <td>Câu 3</td>\n",
              "      <td>Polynomial Linear Regression</td>\n",
              "      <td>`highway-mpg`</td>\n",
              "      <td>LinearRegression()</td>\n",
              "      <td>2.047415e+07</td>\n",
              "      <td>0.674195</td>\n",
              "    </tr>\n",
              "    <tr>\n",
              "      <th>1</th>\n",
              "      <td>Câu 5</td>\n",
              "      <td>Multivariable Linear Regression</td>\n",
              "      <td>`horsepower`, `curb-weight`, `engine-size`, `highway-mpg`</td>\n",
              "      <td>LinearRegression()</td>\n",
              "      <td>1.198037e+07</td>\n",
              "      <td>0.809356</td>\n",
              "    </tr>\n",
              "    <tr>\n",
              "      <th>2</th>\n",
              "      <td>Câu 7</td>\n",
              "      <td>Multivariable Linear Regression bậc 2</td>\n",
              "      <td>`horsepower`, `curb-weight`, `engine-size`, `highway-mpg`</td>\n",
              "      <td>LinearRegression()</td>\n",
              "      <td>9.656613e+06</td>\n",
              "      <td>0.846334</td>\n",
              "    </tr>\n",
              "    <tr>\n",
              "      <th>3</th>\n",
              "      <td>Câu 9</td>\n",
              "      <td>Multivariable Linear Regression Pipeline bậc 2</td>\n",
              "      <td>`horsepower`, `curb-weight`, `engine-size`, `highway-mpg`</td>\n",
              "      <td>(StandardScaler(), PolynomialFeatures(), LinearRegression())</td>\n",
              "      <td>9.656613e+06</td>\n",
              "      <td>0.846334</td>\n",
              "    </tr>\n",
              "  </tbody>\n",
              "</table>\n",
              "</div>\n",
              "      <button class=\"colab-df-convert\" onclick=\"convertToInteractive('df-51e0599d-7828-4a1c-b319-2270c4c15635')\"\n",
              "              title=\"Convert this dataframe to an interactive table.\"\n",
              "              style=\"display:none;\">\n",
              "        \n",
              "  <svg xmlns=\"http://www.w3.org/2000/svg\" height=\"24px\"viewBox=\"0 0 24 24\"\n",
              "       width=\"24px\">\n",
              "    <path d=\"M0 0h24v24H0V0z\" fill=\"none\"/>\n",
              "    <path d=\"M18.56 5.44l.94 2.06.94-2.06 2.06-.94-2.06-.94-.94-2.06-.94 2.06-2.06.94zm-11 1L8.5 8.5l.94-2.06 2.06-.94-2.06-.94L8.5 2.5l-.94 2.06-2.06.94zm10 10l.94 2.06.94-2.06 2.06-.94-2.06-.94-.94-2.06-.94 2.06-2.06.94z\"/><path d=\"M17.41 7.96l-1.37-1.37c-.4-.4-.92-.59-1.43-.59-.52 0-1.04.2-1.43.59L10.3 9.45l-7.72 7.72c-.78.78-.78 2.05 0 2.83L4 21.41c.39.39.9.59 1.41.59.51 0 1.02-.2 1.41-.59l7.78-7.78 2.81-2.81c.8-.78.8-2.07 0-2.86zM5.41 20L4 18.59l7.72-7.72 1.47 1.35L5.41 20z\"/>\n",
              "  </svg>\n",
              "      </button>\n",
              "      \n",
              "  <style>\n",
              "    .colab-df-container {\n",
              "      display:flex;\n",
              "      flex-wrap:wrap;\n",
              "      gap: 12px;\n",
              "    }\n",
              "\n",
              "    .colab-df-convert {\n",
              "      background-color: #E8F0FE;\n",
              "      border: none;\n",
              "      border-radius: 50%;\n",
              "      cursor: pointer;\n",
              "      display: none;\n",
              "      fill: #1967D2;\n",
              "      height: 32px;\n",
              "      padding: 0 0 0 0;\n",
              "      width: 32px;\n",
              "    }\n",
              "\n",
              "    .colab-df-convert:hover {\n",
              "      background-color: #E2EBFA;\n",
              "      box-shadow: 0px 1px 2px rgba(60, 64, 67, 0.3), 0px 1px 3px 1px rgba(60, 64, 67, 0.15);\n",
              "      fill: #174EA6;\n",
              "    }\n",
              "\n",
              "    [theme=dark] .colab-df-convert {\n",
              "      background-color: #3B4455;\n",
              "      fill: #D2E3FC;\n",
              "    }\n",
              "\n",
              "    [theme=dark] .colab-df-convert:hover {\n",
              "      background-color: #434B5C;\n",
              "      box-shadow: 0px 1px 3px 1px rgba(0, 0, 0, 0.15);\n",
              "      filter: drop-shadow(0px 1px 2px rgba(0, 0, 0, 0.3));\n",
              "      fill: #FFFFFF;\n",
              "    }\n",
              "  </style>\n",
              "\n",
              "      <script>\n",
              "        const buttonEl =\n",
              "          document.querySelector('#df-51e0599d-7828-4a1c-b319-2270c4c15635 button.colab-df-convert');\n",
              "        buttonEl.style.display =\n",
              "          google.colab.kernel.accessAllowed ? 'block' : 'none';\n",
              "\n",
              "        async function convertToInteractive(key) {\n",
              "          const element = document.querySelector('#df-51e0599d-7828-4a1c-b319-2270c4c15635');\n",
              "          const dataTable =\n",
              "            await google.colab.kernel.invokeFunction('convertToInteractive',\n",
              "                                                     [key], {});\n",
              "          if (!dataTable) return;\n",
              "\n",
              "          const docLinkHtml = 'Like what you see? Visit the ' +\n",
              "            '<a target=\"_blank\" href=https://colab.research.google.com/notebooks/data_table.ipynb>data table notebook</a>'\n",
              "            + ' to learn more about interactive tables.';\n",
              "          element.innerHTML = '';\n",
              "          dataTable['output_type'] = 'display_data';\n",
              "          await google.colab.output.renderOutput(dataTable, element);\n",
              "          const docLink = document.createElement('div');\n",
              "          docLink.innerHTML = docLinkHtml;\n",
              "          element.appendChild(docLink);\n",
              "        }\n",
              "      </script>\n",
              "    </div>\n",
              "  </div>\n",
              "  "
            ],
            "text/plain": [
              "     Câu                                       Tên Model  \\\n",
              "0  Câu 3  Polynomial Linear Regression                     \n",
              "1  Câu 5  Multivariable Linear Regression                  \n",
              "2  Câu 7  Multivariable Linear Regression bậc 2            \n",
              "3  Câu 9  Multivariable Linear Regression Pipeline bậc 2   \n",
              "\n",
              "                                        Các features sử dụng  \\\n",
              "0  `highway-mpg`                                               \n",
              "1  `horsepower`, `curb-weight`, `engine-size`, `highway-mpg`   \n",
              "2  `horsepower`, `curb-weight`, `engine-size`, `highway-mpg`   \n",
              "3  `horsepower`, `curb-weight`, `engine-size`, `highway-mpg`   \n",
              "\n",
              "                                                          Model           MSE  \\\n",
              "0  LinearRegression()                                            2.047415e+07   \n",
              "1  LinearRegression()                                            1.198037e+07   \n",
              "2  LinearRegression()                                            9.656613e+06   \n",
              "3  (StandardScaler(), PolynomialFeatures(), LinearRegression())  9.656613e+06   \n",
              "\n",
              "         R2  \n",
              "0  0.674195  \n",
              "1  0.809356  \n",
              "2  0.846334  \n",
              "3  0.846334  "
            ]
          },
          "execution_count": 44,
          "metadata": {},
          "output_type": "execute_result"
        }
      ],
      "source": [
        "model_comparison"
      ]
    }
  ],
  "metadata": {
    "colab": {
      "provenance": []
    },
    "kernelspec": {
      "display_name": "Python 3 (ipykernel)",
      "language": "python",
      "name": "python3"
    },
    "language_info": {
      "codemirror_mode": {
        "name": "ipython",
        "version": 3
      },
      "file_extension": ".py",
      "mimetype": "text/x-python",
      "name": "python",
      "nbconvert_exporter": "python",
      "pygments_lexer": "ipython3",
      "version": "3.9.13"
    }
  },
  "nbformat": 4,
  "nbformat_minor": 5
}
