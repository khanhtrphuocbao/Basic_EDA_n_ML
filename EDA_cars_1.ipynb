{
  "cells": [
    {
      "cell_type": "markdown",
      "metadata": {
        "id": "BGFO8bURAg--"
      },
      "source": [
        "#Câu 1: Đọc dữ liệu"
      ]
    },
    {
      "cell_type": "code",
      "execution_count": 1,
      "metadata": {
        "id": "Z1ycnc_w_39M"
      },
      "outputs": [],
      "source": [
        "import pandas as pd"
      ]
    },
    {
      "cell_type": "code",
      "execution_count": 2,
      "metadata": {
        "id": "mEb3JgN2_lfQ"
      },
      "outputs": [],
      "source": [
        "path = \"https://gitlab.com/uitgit/datasets/-/raw/master/auto_lab.csv\"\n",
        "df = pd.read_csv(path)"
      ]
    },
    {
      "cell_type": "code",
      "execution_count": 3,
      "metadata": {
        "colab": {
          "base_uri": "https://localhost:8080/",
          "height": 424
        },
        "id": "BB5ZxUbxAGac",
        "outputId": "24f23d6f-807c-4d67-f8ca-d803b6559d25"
      },
      "outputs": [
        {
          "data": {
            "text/html": [
              "\n",
              "  <div id=\"df-a2d9a72d-8269-48ff-9cf0-0212ebebb3e1\">\n",
              "    <div class=\"colab-df-container\">\n",
              "      <div>\n",
              "<style scoped>\n",
              "    .dataframe tbody tr th:only-of-type {\n",
              "        vertical-align: middle;\n",
              "    }\n",
              "\n",
              "    .dataframe tbody tr th {\n",
              "        vertical-align: top;\n",
              "    }\n",
              "\n",
              "    .dataframe thead th {\n",
              "        text-align: right;\n",
              "    }\n",
              "</style>\n",
              "<table border=\"1\" class=\"dataframe\">\n",
              "  <thead>\n",
              "    <tr style=\"text-align: right;\">\n",
              "      <th></th>\n",
              "      <th>3</th>\n",
              "      <th>?</th>\n",
              "      <th>alfa-romero</th>\n",
              "      <th>gas</th>\n",
              "      <th>std</th>\n",
              "      <th>two</th>\n",
              "      <th>convertible</th>\n",
              "      <th>rwd</th>\n",
              "      <th>front</th>\n",
              "      <th>88.6</th>\n",
              "      <th>...</th>\n",
              "      <th>130</th>\n",
              "      <th>mpfi</th>\n",
              "      <th>3.47</th>\n",
              "      <th>2.68</th>\n",
              "      <th>9</th>\n",
              "      <th>111</th>\n",
              "      <th>5000</th>\n",
              "      <th>21</th>\n",
              "      <th>27</th>\n",
              "      <th>13495</th>\n",
              "    </tr>\n",
              "  </thead>\n",
              "  <tbody>\n",
              "    <tr>\n",
              "      <th>0</th>\n",
              "      <td>3</td>\n",
              "      <td>?</td>\n",
              "      <td>alfa-romero</td>\n",
              "      <td>gas</td>\n",
              "      <td>std</td>\n",
              "      <td>two</td>\n",
              "      <td>convertible</td>\n",
              "      <td>rwd</td>\n",
              "      <td>front</td>\n",
              "      <td>88.6</td>\n",
              "      <td>...</td>\n",
              "      <td>130</td>\n",
              "      <td>mpfi</td>\n",
              "      <td>3.47</td>\n",
              "      <td>2.68</td>\n",
              "      <td>9.0</td>\n",
              "      <td>111</td>\n",
              "      <td>5000</td>\n",
              "      <td>21</td>\n",
              "      <td>27</td>\n",
              "      <td>16500</td>\n",
              "    </tr>\n",
              "    <tr>\n",
              "      <th>1</th>\n",
              "      <td>1</td>\n",
              "      <td>?</td>\n",
              "      <td>alfa-romero</td>\n",
              "      <td>gas</td>\n",
              "      <td>std</td>\n",
              "      <td>two</td>\n",
              "      <td>hatchback</td>\n",
              "      <td>rwd</td>\n",
              "      <td>front</td>\n",
              "      <td>94.5</td>\n",
              "      <td>...</td>\n",
              "      <td>152</td>\n",
              "      <td>mpfi</td>\n",
              "      <td>2.68</td>\n",
              "      <td>3.47</td>\n",
              "      <td>9.0</td>\n",
              "      <td>154</td>\n",
              "      <td>5000</td>\n",
              "      <td>19</td>\n",
              "      <td>26</td>\n",
              "      <td>16500</td>\n",
              "    </tr>\n",
              "    <tr>\n",
              "      <th>2</th>\n",
              "      <td>2</td>\n",
              "      <td>164</td>\n",
              "      <td>audi</td>\n",
              "      <td>gas</td>\n",
              "      <td>std</td>\n",
              "      <td>four</td>\n",
              "      <td>sedan</td>\n",
              "      <td>fwd</td>\n",
              "      <td>front</td>\n",
              "      <td>99.8</td>\n",
              "      <td>...</td>\n",
              "      <td>109</td>\n",
              "      <td>mpfi</td>\n",
              "      <td>3.19</td>\n",
              "      <td>3.4</td>\n",
              "      <td>10.0</td>\n",
              "      <td>102</td>\n",
              "      <td>5500</td>\n",
              "      <td>24</td>\n",
              "      <td>30</td>\n",
              "      <td>13950</td>\n",
              "    </tr>\n",
              "    <tr>\n",
              "      <th>3</th>\n",
              "      <td>2</td>\n",
              "      <td>164</td>\n",
              "      <td>audi</td>\n",
              "      <td>gas</td>\n",
              "      <td>std</td>\n",
              "      <td>four</td>\n",
              "      <td>sedan</td>\n",
              "      <td>4wd</td>\n",
              "      <td>front</td>\n",
              "      <td>99.4</td>\n",
              "      <td>...</td>\n",
              "      <td>136</td>\n",
              "      <td>mpfi</td>\n",
              "      <td>3.19</td>\n",
              "      <td>3.4</td>\n",
              "      <td>8.0</td>\n",
              "      <td>115</td>\n",
              "      <td>5500</td>\n",
              "      <td>18</td>\n",
              "      <td>22</td>\n",
              "      <td>17450</td>\n",
              "    </tr>\n",
              "    <tr>\n",
              "      <th>4</th>\n",
              "      <td>2</td>\n",
              "      <td>?</td>\n",
              "      <td>audi</td>\n",
              "      <td>gas</td>\n",
              "      <td>std</td>\n",
              "      <td>two</td>\n",
              "      <td>sedan</td>\n",
              "      <td>fwd</td>\n",
              "      <td>front</td>\n",
              "      <td>99.8</td>\n",
              "      <td>...</td>\n",
              "      <td>136</td>\n",
              "      <td>mpfi</td>\n",
              "      <td>3.19</td>\n",
              "      <td>3.4</td>\n",
              "      <td>8.5</td>\n",
              "      <td>110</td>\n",
              "      <td>5500</td>\n",
              "      <td>19</td>\n",
              "      <td>25</td>\n",
              "      <td>15250</td>\n",
              "    </tr>\n",
              "    <tr>\n",
              "      <th>...</th>\n",
              "      <td>...</td>\n",
              "      <td>...</td>\n",
              "      <td>...</td>\n",
              "      <td>...</td>\n",
              "      <td>...</td>\n",
              "      <td>...</td>\n",
              "      <td>...</td>\n",
              "      <td>...</td>\n",
              "      <td>...</td>\n",
              "      <td>...</td>\n",
              "      <td>...</td>\n",
              "      <td>...</td>\n",
              "      <td>...</td>\n",
              "      <td>...</td>\n",
              "      <td>...</td>\n",
              "      <td>...</td>\n",
              "      <td>...</td>\n",
              "      <td>...</td>\n",
              "      <td>...</td>\n",
              "      <td>...</td>\n",
              "      <td>...</td>\n",
              "    </tr>\n",
              "    <tr>\n",
              "      <th>199</th>\n",
              "      <td>-1</td>\n",
              "      <td>95</td>\n",
              "      <td>volvo</td>\n",
              "      <td>gas</td>\n",
              "      <td>std</td>\n",
              "      <td>four</td>\n",
              "      <td>sedan</td>\n",
              "      <td>rwd</td>\n",
              "      <td>front</td>\n",
              "      <td>109.1</td>\n",
              "      <td>...</td>\n",
              "      <td>141</td>\n",
              "      <td>mpfi</td>\n",
              "      <td>3.78</td>\n",
              "      <td>3.15</td>\n",
              "      <td>9.5</td>\n",
              "      <td>114</td>\n",
              "      <td>5400</td>\n",
              "      <td>23</td>\n",
              "      <td>28</td>\n",
              "      <td>16845</td>\n",
              "    </tr>\n",
              "    <tr>\n",
              "      <th>200</th>\n",
              "      <td>-1</td>\n",
              "      <td>NaN</td>\n",
              "      <td>volvo</td>\n",
              "      <td>gas</td>\n",
              "      <td>turbo</td>\n",
              "      <td>four</td>\n",
              "      <td>sedan</td>\n",
              "      <td>rwd</td>\n",
              "      <td>front</td>\n",
              "      <td>109.1</td>\n",
              "      <td>...</td>\n",
              "      <td>141</td>\n",
              "      <td>mpfi</td>\n",
              "      <td>3.78</td>\n",
              "      <td>3.15</td>\n",
              "      <td>8.7</td>\n",
              "      <td>160</td>\n",
              "      <td>5300</td>\n",
              "      <td>19</td>\n",
              "      <td>25</td>\n",
              "      <td>19045</td>\n",
              "    </tr>\n",
              "    <tr>\n",
              "      <th>201</th>\n",
              "      <td>-1</td>\n",
              "      <td>95</td>\n",
              "      <td>volvo</td>\n",
              "      <td>gas</td>\n",
              "      <td>std</td>\n",
              "      <td>four</td>\n",
              "      <td>sedan</td>\n",
              "      <td>rwd</td>\n",
              "      <td>front</td>\n",
              "      <td>109.1</td>\n",
              "      <td>...</td>\n",
              "      <td>173</td>\n",
              "      <td>mpfi</td>\n",
              "      <td>3.58</td>\n",
              "      <td>2.87</td>\n",
              "      <td>8.8</td>\n",
              "      <td>134</td>\n",
              "      <td>5500</td>\n",
              "      <td>18</td>\n",
              "      <td>23</td>\n",
              "      <td>21485</td>\n",
              "    </tr>\n",
              "    <tr>\n",
              "      <th>202</th>\n",
              "      <td>-1</td>\n",
              "      <td>95</td>\n",
              "      <td>volvo</td>\n",
              "      <td>diesel</td>\n",
              "      <td>turbo</td>\n",
              "      <td>four</td>\n",
              "      <td>sedan</td>\n",
              "      <td>rwd</td>\n",
              "      <td>front</td>\n",
              "      <td>109.1</td>\n",
              "      <td>...</td>\n",
              "      <td>145</td>\n",
              "      <td>idi</td>\n",
              "      <td>3.01</td>\n",
              "      <td>3.4</td>\n",
              "      <td>23.0</td>\n",
              "      <td>106</td>\n",
              "      <td>4800</td>\n",
              "      <td>26</td>\n",
              "      <td>27</td>\n",
              "      <td>22470</td>\n",
              "    </tr>\n",
              "    <tr>\n",
              "      <th>203</th>\n",
              "      <td>-1</td>\n",
              "      <td>95</td>\n",
              "      <td>volvo</td>\n",
              "      <td>gas</td>\n",
              "      <td>turbo</td>\n",
              "      <td>four</td>\n",
              "      <td>sedan</td>\n",
              "      <td>rwd</td>\n",
              "      <td>front</td>\n",
              "      <td>109.1</td>\n",
              "      <td>...</td>\n",
              "      <td>141</td>\n",
              "      <td>mpfi</td>\n",
              "      <td>3.78</td>\n",
              "      <td>3.15</td>\n",
              "      <td>9.5</td>\n",
              "      <td>114</td>\n",
              "      <td>5400</td>\n",
              "      <td>19</td>\n",
              "      <td>25</td>\n",
              "      <td>22625</td>\n",
              "    </tr>\n",
              "  </tbody>\n",
              "</table>\n",
              "<p>204 rows × 26 columns</p>\n",
              "</div>\n",
              "      <button class=\"colab-df-convert\" onclick=\"convertToInteractive('df-a2d9a72d-8269-48ff-9cf0-0212ebebb3e1')\"\n",
              "              title=\"Convert this dataframe to an interactive table.\"\n",
              "              style=\"display:none;\">\n",
              "        \n",
              "  <svg xmlns=\"http://www.w3.org/2000/svg\" height=\"24px\"viewBox=\"0 0 24 24\"\n",
              "       width=\"24px\">\n",
              "    <path d=\"M0 0h24v24H0V0z\" fill=\"none\"/>\n",
              "    <path d=\"M18.56 5.44l.94 2.06.94-2.06 2.06-.94-2.06-.94-.94-2.06-.94 2.06-2.06.94zm-11 1L8.5 8.5l.94-2.06 2.06-.94-2.06-.94L8.5 2.5l-.94 2.06-2.06.94zm10 10l.94 2.06.94-2.06 2.06-.94-2.06-.94-.94-2.06-.94 2.06-2.06.94z\"/><path d=\"M17.41 7.96l-1.37-1.37c-.4-.4-.92-.59-1.43-.59-.52 0-1.04.2-1.43.59L10.3 9.45l-7.72 7.72c-.78.78-.78 2.05 0 2.83L4 21.41c.39.39.9.59 1.41.59.51 0 1.02-.2 1.41-.59l7.78-7.78 2.81-2.81c.8-.78.8-2.07 0-2.86zM5.41 20L4 18.59l7.72-7.72 1.47 1.35L5.41 20z\"/>\n",
              "  </svg>\n",
              "      </button>\n",
              "      \n",
              "  <style>\n",
              "    .colab-df-container {\n",
              "      display:flex;\n",
              "      flex-wrap:wrap;\n",
              "      gap: 12px;\n",
              "    }\n",
              "\n",
              "    .colab-df-convert {\n",
              "      background-color: #E8F0FE;\n",
              "      border: none;\n",
              "      border-radius: 50%;\n",
              "      cursor: pointer;\n",
              "      display: none;\n",
              "      fill: #1967D2;\n",
              "      height: 32px;\n",
              "      padding: 0 0 0 0;\n",
              "      width: 32px;\n",
              "    }\n",
              "\n",
              "    .colab-df-convert:hover {\n",
              "      background-color: #E2EBFA;\n",
              "      box-shadow: 0px 1px 2px rgba(60, 64, 67, 0.3), 0px 1px 3px 1px rgba(60, 64, 67, 0.15);\n",
              "      fill: #174EA6;\n",
              "    }\n",
              "\n",
              "    [theme=dark] .colab-df-convert {\n",
              "      background-color: #3B4455;\n",
              "      fill: #D2E3FC;\n",
              "    }\n",
              "\n",
              "    [theme=dark] .colab-df-convert:hover {\n",
              "      background-color: #434B5C;\n",
              "      box-shadow: 0px 1px 3px 1px rgba(0, 0, 0, 0.15);\n",
              "      filter: drop-shadow(0px 1px 2px rgba(0, 0, 0, 0.3));\n",
              "      fill: #FFFFFF;\n",
              "    }\n",
              "  </style>\n",
              "\n",
              "      <script>\n",
              "        const buttonEl =\n",
              "          document.querySelector('#df-a2d9a72d-8269-48ff-9cf0-0212ebebb3e1 button.colab-df-convert');\n",
              "        buttonEl.style.display =\n",
              "          google.colab.kernel.accessAllowed ? 'block' : 'none';\n",
              "\n",
              "        async function convertToInteractive(key) {\n",
              "          const element = document.querySelector('#df-a2d9a72d-8269-48ff-9cf0-0212ebebb3e1');\n",
              "          const dataTable =\n",
              "            await google.colab.kernel.invokeFunction('convertToInteractive',\n",
              "                                                     [key], {});\n",
              "          if (!dataTable) return;\n",
              "\n",
              "          const docLinkHtml = 'Like what you see? Visit the ' +\n",
              "            '<a target=\"_blank\" href=https://colab.research.google.com/notebooks/data_table.ipynb>data table notebook</a>'\n",
              "            + ' to learn more about interactive tables.';\n",
              "          element.innerHTML = '';\n",
              "          dataTable['output_type'] = 'display_data';\n",
              "          await google.colab.output.renderOutput(dataTable, element);\n",
              "          const docLink = document.createElement('div');\n",
              "          docLink.innerHTML = docLinkHtml;\n",
              "          element.appendChild(docLink);\n",
              "        }\n",
              "      </script>\n",
              "    </div>\n",
              "  </div>\n",
              "  "
            ],
            "text/plain": [
              "     3    ?  alfa-romero     gas    std   two  convertible  rwd  front   88.6  \\\n",
              "0    3    ?  alfa-romero     gas    std   two  convertible  rwd  front   88.6   \n",
              "1    1    ?  alfa-romero     gas    std   two    hatchback  rwd  front   94.5   \n",
              "2    2  164         audi     gas    std  four        sedan  fwd  front   99.8   \n",
              "3    2  164         audi     gas    std  four        sedan  4wd  front   99.4   \n",
              "4    2    ?         audi     gas    std   two        sedan  fwd  front   99.8   \n",
              "..  ..  ...          ...     ...    ...   ...          ...  ...    ...    ...   \n",
              "199 -1   95        volvo     gas    std  four        sedan  rwd  front  109.1   \n",
              "200 -1  NaN        volvo     gas  turbo  four        sedan  rwd  front  109.1   \n",
              "201 -1   95        volvo     gas    std  four        sedan  rwd  front  109.1   \n",
              "202 -1   95        volvo  diesel  turbo  four        sedan  rwd  front  109.1   \n",
              "203 -1   95        volvo     gas  turbo  four        sedan  rwd  front  109.1   \n",
              "\n",
              "     ...  130  mpfi  3.47  2.68     9  111  5000  21  27  13495  \n",
              "0    ...  130  mpfi  3.47  2.68   9.0  111  5000  21  27  16500  \n",
              "1    ...  152  mpfi  2.68  3.47   9.0  154  5000  19  26  16500  \n",
              "2    ...  109  mpfi  3.19   3.4  10.0  102  5500  24  30  13950  \n",
              "3    ...  136  mpfi  3.19   3.4   8.0  115  5500  18  22  17450  \n",
              "4    ...  136  mpfi  3.19   3.4   8.5  110  5500  19  25  15250  \n",
              "..   ...  ...   ...   ...   ...   ...  ...   ...  ..  ..    ...  \n",
              "199  ...  141  mpfi  3.78  3.15   9.5  114  5400  23  28  16845  \n",
              "200  ...  141  mpfi  3.78  3.15   8.7  160  5300  19  25  19045  \n",
              "201  ...  173  mpfi  3.58  2.87   8.8  134  5500  18  23  21485  \n",
              "202  ...  145   idi  3.01   3.4  23.0  106  4800  26  27  22470  \n",
              "203  ...  141  mpfi  3.78  3.15   9.5  114  5400  19  25  22625  \n",
              "\n",
              "[204 rows x 26 columns]"
            ]
          },
          "execution_count": 3,
          "metadata": {},
          "output_type": "execute_result"
        }
      ],
      "source": [
        "df"
      ]
    },
    {
      "cell_type": "markdown",
      "metadata": {
        "id": "SovDCxMEAuxl"
      },
      "source": [
        "# Câu 2: Tạo header"
      ]
    },
    {
      "cell_type": "code",
      "execution_count": 4,
      "metadata": {
        "id": "laZYtp2r96AC"
      },
      "outputs": [],
      "source": [
        "df.to_csv('processing_data.csv', index=False)"
      ]
    },
    {
      "cell_type": "code",
      "execution_count": 5,
      "metadata": {
        "id": "q5WoQKW7BCe1"
      },
      "outputs": [],
      "source": [
        "df.columns = [\"symboling\", \"normalized-losses\", \"make\", \"fuel-type\", \"aspiration\", \"num-of-doors\", \n",
        "\"body-style\", \"drive-wheels\", \"engine-location\", \"wheel-base\", \"length\", \"width\", \"height\", \"curb-weight\", \"engine-type\", \"num-of-cylinders\", \"engine\u0002size\", \"fuel-system\", \"bore\", \"stroke\", \"compression-ratio\", \"horsepower\", \"peak-rpm\", \"city-mpg\", \"highway-mpg\", \"price\"]"
      ]
    },
    {
      "cell_type": "code",
      "execution_count": 6,
      "metadata": {
        "colab": {
          "base_uri": "https://localhost:8080/"
        },
        "id": "Ic--xk4b54eH",
        "outputId": "29a02b4d-bb04-431c-8605-18e4a07afdda"
      },
      "outputs": [
        {
          "name": "stdout",
          "output_type": "stream",
          "text": [
            "     symboling normalized-losses         make fuel-type aspiration  \\\n",
            "0            3                 ?  alfa-romero       gas        std   \n",
            "1            1                 ?  alfa-romero       gas        std   \n",
            "2            2               164         audi       gas        std   \n",
            "3            2               164         audi       gas        std   \n",
            "4            2                 ?         audi       gas        std   \n",
            "..         ...               ...          ...       ...        ...   \n",
            "199         -1                95        volvo       gas        std   \n",
            "200         -1               NaN        volvo       gas      turbo   \n",
            "201         -1                95        volvo       gas        std   \n",
            "202         -1                95        volvo    diesel      turbo   \n",
            "203         -1                95        volvo       gas      turbo   \n",
            "\n",
            "    num-of-doors   body-style drive-wheels engine-location wheel-base  ...  \\\n",
            "0            two  convertible          rwd           front       88.6  ...   \n",
            "1            two    hatchback          rwd           front       94.5  ...   \n",
            "2           four        sedan          fwd           front       99.8  ...   \n",
            "3           four        sedan          4wd           front       99.4  ...   \n",
            "4            two        sedan          fwd           front       99.8  ...   \n",
            "..           ...          ...          ...             ...        ...  ...   \n",
            "199         four        sedan          rwd           front      109.1  ...   \n",
            "200         four        sedan          rwd           front      109.1  ...   \n",
            "201         four        sedan          rwd           front      109.1  ...   \n",
            "202         four        sedan          rwd           front      109.1  ...   \n",
            "203         four        sedan          rwd           front      109.1  ...   \n",
            "\n",
            "    engine\u0002size fuel-system  bore stroke compression-ratio horsepower  \\\n",
            "0           130        mpfi  3.47   2.68               9.0        111   \n",
            "1           152        mpfi  2.68   3.47               9.0        154   \n",
            "2           109        mpfi  3.19    3.4              10.0        102   \n",
            "3           136        mpfi  3.19    3.4               8.0        115   \n",
            "4           136        mpfi  3.19    3.4               8.5        110   \n",
            "..          ...         ...   ...    ...               ...        ...   \n",
            "199         141        mpfi  3.78   3.15               9.5        114   \n",
            "200         141        mpfi  3.78   3.15               8.7        160   \n",
            "201         173        mpfi  3.58   2.87               8.8        134   \n",
            "202         145         idi  3.01    3.4              23.0        106   \n",
            "203         141        mpfi  3.78   3.15               9.5        114   \n",
            "\n",
            "     peak-rpm city-mpg highway-mpg  price  \n",
            "0        5000       21          27  16500  \n",
            "1        5000       19          26  16500  \n",
            "2        5500       24          30  13950  \n",
            "3        5500       18          22  17450  \n",
            "4        5500       19          25  15250  \n",
            "..        ...      ...         ...    ...  \n",
            "199      5400       23          28  16845  \n",
            "200      5300       19          25  19045  \n",
            "201      5500       18          23  21485  \n",
            "202      4800       26          27  22470  \n",
            "203      5400       19          25  22625  \n",
            "\n",
            "[204 rows x 26 columns]\n"
          ]
        }
      ],
      "source": [
        "print(df)"
      ]
    },
    {
      "cell_type": "code",
      "execution_count": 7,
      "metadata": {
        "colab": {
          "base_uri": "https://localhost:8080/"
        },
        "id": "ZqzX29Q3Cfg2",
        "outputId": "c2c33425-9eba-4baa-f91e-e84e1b83ac88"
      },
      "outputs": [
        {
          "name": "stdout",
          "output_type": "stream",
          "text": [
            "     symboling normalized-losses         make fuel-type aspiration  \\\n",
            "0            3                 ?  alfa-romero       gas        std   \n",
            "1            1                 ?  alfa-romero       gas        std   \n",
            "2            2               164         audi       gas        std   \n",
            "3            2               164         audi       gas        std   \n",
            "4            2                 ?         audi       gas        std   \n",
            "5            1               158         audi       gas        std   \n",
            "6            1                 ?         audi       gas        std   \n",
            "7            1               158         audi       gas      turbo   \n",
            "8            0                 ?         audi       gas      turbo   \n",
            "198         -1                74        volvo       gas      turbo   \n",
            "199         -1                95        volvo       gas        std   \n",
            "200         -1               NaN        volvo       gas      turbo   \n",
            "201         -1                95        volvo       gas        std   \n",
            "202         -1                95        volvo    diesel      turbo   \n",
            "203         -1                95        volvo       gas      turbo   \n",
            "63           0               115        mazda       gas        std   \n",
            "90           1               128       nissan       gas        std   \n",
            "48           0                 ?       jaguar       gas        std   \n",
            "52           1               113        mazda       gas        std   \n",
            "26           1               148        dodge       gas      turbo   \n",
            "19           0                81    chevrolet       gas        std   \n",
            "190          0                 ?   volkswagen       gas        std   \n",
            "46           0               145       jaguar       gas        std   \n",
            "\n",
            "    num-of-doors   body-style drive-wheels engine-location wheel-base  ...  \\\n",
            "0            two  convertible          rwd           front       88.6  ...   \n",
            "1            two    hatchback          rwd           front       94.5  ...   \n",
            "2           four        sedan          fwd           front       99.8  ...   \n",
            "3           four        sedan          4wd           front       99.4  ...   \n",
            "4            two        sedan          fwd           front       99.8  ...   \n",
            "5           four        sedan          fwd           front      105.8  ...   \n",
            "6           four        wagon          fwd           front         ??  ...   \n",
            "7           four        sedan          fwd           front      105.8  ...   \n",
            "8            two    hatchback          4wd           front       99.5  ...   \n",
            "198         four        wagon          rwd           front      104.3  ...   \n",
            "199         four        sedan          rwd           front      109.1  ...   \n",
            "200         four        sedan          rwd           front      109.1  ...   \n",
            "201         four        sedan          rwd           front      109.1  ...   \n",
            "202         four        sedan          rwd           front      109.1  ...   \n",
            "203         four        sedan          rwd           front      109.1  ...   \n",
            "63          four    hatchback          fwd           front       98.8  ...   \n",
            "90           two        sedan          fwd           front       94.5  ...   \n",
            "48           two        sedan          rwd           front        102  ...   \n",
            "52          four        sedan          fwd           front       93.1  ...   \n",
            "26             ?        sedan          fwd           front       93.7  ...   \n",
            "19          four        sedan          fwd           front       94.5  ...   \n",
            "190         four        sedan          fwd           front      100.4  ...   \n",
            "46          four        sedan          rwd           front        113  ...   \n",
            "\n",
            "    engine\u0002size fuel-system  bore stroke compression-ratio horsepower  \\\n",
            "0           130        mpfi  3.47   2.68               9.0        111   \n",
            "1           152        mpfi  2.68   3.47               9.0        154   \n",
            "2           109        mpfi  3.19    3.4              10.0        102   \n",
            "3           136        mpfi  3.19    3.4               8.0        115   \n",
            "4           136        mpfi  3.19    3.4               8.5        110   \n",
            "5           136        mpfi  3.19    3.4               8.5        110   \n",
            "6           136        mpfi  3.19    3.4               8.5        110   \n",
            "7           131        mpfi  3.13    3.4               8.3        140   \n",
            "8           131        mpfi  3.13    3.4               7.0        160   \n",
            "198         130        mpfi  3.62   3.15               7.5        162   \n",
            "199         141        mpfi  3.78   3.15               9.5        114   \n",
            "200         141        mpfi  3.78   3.15               8.7        160   \n",
            "201         173        mpfi  3.58   2.87               8.8        134   \n",
            "202         145         idi  3.01    3.4              23.0        106   \n",
            "203         141        mpfi  3.78   3.15               9.5        114   \n",
            "63          122        2bbl  3.39   3.39               8.6         84   \n",
            "90           97        2bbl  3.15   3.29               9.4         69   \n",
            "48          326        mpfi  3.54   2.76              11.5        262   \n",
            "52           91        2bbl  3.03   3.15               9.0         68   \n",
            "26           98        mpfi  3.03   3.39               7.6        102   \n",
            "19           90        2bbl  3.03   3.11               9.6         70   \n",
            "190         136        mpfi  3.19    3.4               8.5        110   \n",
            "46          258        mpfi  3.63   4.17               8.1        176   \n",
            "\n",
            "     peak-rpm city-mpg highway-mpg  price  \n",
            "0        5000       21          27  16500  \n",
            "1        5000       19          26  16500  \n",
            "2        5500       24          30  13950  \n",
            "3        5500       18          22  17450  \n",
            "4        5500       19          25  15250  \n",
            "5        5500       19          25  17710  \n",
            "6        5500       19          25  18920  \n",
            "7        5500       17          20  23875  \n",
            "8        5500       16          22      ?  \n",
            "198      5100       17          22  18950  \n",
            "199      5400       23          28  16845  \n",
            "200      5300       19          25  19045  \n",
            "201      5500       18          23  21485  \n",
            "202      4800       26          27  22470  \n",
            "203      5400       19          25  22625  \n",
            "63       4800       26          32  11245  \n",
            "90       5200       31          37   6649  \n",
            "48       5000       13          17  36000  \n",
            "52       5000       31          38   6695  \n",
            "26       5500       24          30   8558  \n",
            "19       5400       38          43   6575  \n",
            "190      5500       19          24  13295  \n",
            "46       4750       15          19  32250  \n",
            "\n",
            "[23 rows x 26 columns]\n"
          ]
        }
      ],
      "source": [
        "frames = [df.head(9), df.tail(6), df.sample(8)]\n",
        "result = pd.concat(frames)\n",
        "print(result)"
      ]
    },
    {
      "cell_type": "markdown",
      "metadata": {
        "id": "p3OTPUcL8nFS"
      },
      "source": [
        "# Định dạng dữ liệu"
      ]
    },
    {
      "cell_type": "code",
      "execution_count": 8,
      "metadata": {
        "id": "MiZNlBTegDdd"
      },
      "outputs": [],
      "source": [
        "import numpy as np"
      ]
    },
    {
      "cell_type": "code",
      "execution_count": 9,
      "metadata": {
        "id": "_ZK3RYuCuptM"
      },
      "outputs": [],
      "source": [
        "list = [\"?\", \".\", \"\",\"_\", \"Na\", \"NULL\" \"null\", \"not\", \"Not\", \"??\"]\n",
        "df.replace(to_replace = list, value = np.nan, inplace = True)"
      ]
    },
    {
      "cell_type": "code",
      "execution_count": 10,
      "metadata": {
        "colab": {
          "base_uri": "https://localhost:8080/"
        },
        "id": "pBub85bfvD0d",
        "outputId": "b283f3e1-9c24-40e6-8960-a572e4b9c916"
      },
      "outputs": [
        {
          "name": "stdout",
          "output_type": "stream",
          "text": [
            "<class 'pandas.core.frame.DataFrame'>\n",
            "RangeIndex: 204 entries, 0 to 203\n",
            "Data columns (total 26 columns):\n",
            " #   Column             Non-Null Count  Dtype  \n",
            "---  ------             --------------  -----  \n",
            " 0   symboling          204 non-null    int64  \n",
            " 1   normalized-losses  162 non-null    object \n",
            " 2   make               204 non-null    object \n",
            " 3   fuel-type          204 non-null    object \n",
            " 4   aspiration         204 non-null    object \n",
            " 5   num-of-doors       202 non-null    object \n",
            " 6   body-style         204 non-null    object \n",
            " 7   drive-wheels       204 non-null    object \n",
            " 8   engine-location    204 non-null    object \n",
            " 9   wheel-base         198 non-null    object \n",
            " 10  length             200 non-null    object \n",
            " 11  width              203 non-null    object \n",
            " 12  height             204 non-null    float64\n",
            " 13  curb-weight        201 non-null    object \n",
            " 14  engine-type        204 non-null    object \n",
            " 15  num-of-cylinders   204 non-null    object \n",
            " 16  engine\u0002size        204 non-null    int64  \n",
            " 17  fuel-system        204 non-null    object \n",
            " 18  bore               200 non-null    object \n",
            " 19  stroke             200 non-null    object \n",
            " 20  compression-ratio  204 non-null    float64\n",
            " 21  horsepower         202 non-null    object \n",
            " 22  peak-rpm           202 non-null    object \n",
            " 23  city-mpg           204 non-null    int64  \n",
            " 24  highway-mpg        204 non-null    int64  \n",
            " 25  price              198 non-null    object \n",
            "dtypes: float64(2), int64(4), object(20)\n",
            "memory usage: 41.6+ KB\n"
          ]
        }
      ],
      "source": [
        "df.info()"
      ]
    },
    {
      "cell_type": "markdown",
      "metadata": {
        "id": "GJLP2OZNyyZg"
      },
      "source": [
        "#Cau 4"
      ]
    },
    {
      "cell_type": "code",
      "execution_count": 11,
      "metadata": {
        "id": "qC9IV_aVvcm_"
      },
      "outputs": [],
      "source": [
        "df[\"horsepower\"] = df[\"horsepower\"].astype('float64')"
      ]
    },
    {
      "cell_type": "code",
      "execution_count": 12,
      "metadata": {
        "id": "hzYNzhgtbd9N"
      },
      "outputs": [],
      "source": [
        "df[\"normalized-losses\"] = df[\"normalized-losses\"].astype('float64')"
      ]
    },
    {
      "cell_type": "code",
      "execution_count": 13,
      "metadata": {
        "id": "9I7qrSM_JwKF"
      },
      "outputs": [],
      "source": [
        "df['wheel-base'] = df['wheel-base'].astype('float64')"
      ]
    },
    {
      "cell_type": "code",
      "execution_count": 17,
      "metadata": {
        "id": "gLEpS_oINLvv"
      },
      "outputs": [],
      "source": [
        "df['bore'] = df['bore'].astype('float64')"
      ]
    },
    {
      "cell_type": "code",
      "execution_count": 20,
      "metadata": {
        "id": "3U36bj3Dw3WS"
      },
      "outputs": [],
      "source": [
        "for col in df.columns:\n",
        "  if df[col].dtypes == np.int64:\n",
        "    continue\n",
        "  else:\n",
        "    try:\n",
        "        df[col] = df[col].astype(np.float64)\n",
        "    except Exception:\n",
        "        continue"
      ]
    },
    {
      "cell_type": "code",
      "execution_count": 22,
      "metadata": {
        "colab": {
          "base_uri": "https://localhost:8080/"
        },
        "id": "EIkWJSnHxBob",
        "outputId": "c3b5949d-27ea-41aa-ae0b-54dd817f271e"
      },
      "outputs": [
        {
          "data": {
            "text/plain": [
              "symboling              int64\n",
              "normalized-losses    float64\n",
              "make                  object\n",
              "fuel-type             object\n",
              "aspiration            object\n",
              "num-of-doors          object\n",
              "body-style            object\n",
              "drive-wheels          object\n",
              "engine-location       object\n",
              "wheel-base           float64\n",
              "length               float64\n",
              "width                float64\n",
              "height               float64\n",
              "curb-weight          float64\n",
              "engine-type           object\n",
              "num-of-cylinders      object\n",
              "engine\u0002size            int64\n",
              "fuel-system           object\n",
              "bore                 float64\n",
              "stroke               float64\n",
              "compression-ratio    float64\n",
              "horsepower           float64\n",
              "peak-rpm             float64\n",
              "city-mpg               int64\n",
              "highway-mpg            int64\n",
              "price                float64\n",
              "dtype: object"
            ]
          },
          "execution_count": 22,
          "metadata": {},
          "output_type": "execute_result"
        }
      ],
      "source": [
        "df.dtypes"
      ]
    },
    {
      "cell_type": "markdown",
      "metadata": {
        "id": "ow_SSRhWy3pg"
      },
      "source": [
        "#Cau5"
      ]
    },
    {
      "cell_type": "code",
      "execution_count": 23,
      "metadata": {
        "colab": {
          "base_uri": "https://localhost:8080/"
        },
        "id": "M5v3H9Moy5_L",
        "outputId": "e9262424-7424-4e8a-c224-604be9e919fe"
      },
      "outputs": [
        {
          "data": {
            "text/plain": [
              "array([[3, nan, 'alfa-romero', ..., 21, 27, 16500.0],\n",
              "       [1, nan, 'alfa-romero', ..., 19, 26, 16500.0],\n",
              "       [2, 164.0, 'audi', ..., 24, 30, 13950.0],\n",
              "       ...,\n",
              "       [-1, 95.0, 'volvo', ..., 18, 23, 21485.0],\n",
              "       [-1, 95.0, 'volvo', ..., 26, 27, 22470.0],\n",
              "       [-1, 95.0, 'volvo', ..., 19, 25, 22625.0]], dtype=object)"
            ]
          },
          "execution_count": 23,
          "metadata": {},
          "output_type": "execute_result"
        }
      ],
      "source": [
        "import numpy as np\n",
        "np.array(df)"
      ]
    },
    {
      "cell_type": "markdown",
      "metadata": {
        "id": "sPT1OG-60_nu"
      },
      "source": [
        "#Cau 6"
      ]
    },
    {
      "cell_type": "code",
      "execution_count": 24,
      "metadata": {
        "colab": {
          "base_uri": "https://localhost:8080/"
        },
        "id": "j5HtjuPb1y5j",
        "outputId": "53dc211e-3356-48fc-93c6-98e42ff24d89"
      },
      "outputs": [
        {
          "data": {
            "text/plain": [
              "symboling             0\n",
              "normalized-losses    42\n",
              "make                  0\n",
              "fuel-type             0\n",
              "aspiration            0\n",
              "num-of-doors          2\n",
              "body-style            0\n",
              "drive-wheels          0\n",
              "engine-location       0\n",
              "wheel-base            6\n",
              "length                4\n",
              "width                 1\n",
              "height                0\n",
              "curb-weight           3\n",
              "engine-type           0\n",
              "num-of-cylinders      0\n",
              "engine\u0002size           0\n",
              "fuel-system           0\n",
              "bore                  4\n",
              "stroke                4\n",
              "compression-ratio     0\n",
              "horsepower            2\n",
              "peak-rpm              2\n",
              "city-mpg              0\n",
              "highway-mpg           0\n",
              "price                 6\n",
              "dtype: int64"
            ]
          },
          "execution_count": 24,
          "metadata": {},
          "output_type": "execute_result"
        }
      ],
      "source": [
        "df.isna().sum()"
      ]
    },
    {
      "cell_type": "markdown",
      "metadata": {
        "id": "YZ1blI7_2go-"
      },
      "source": [
        "#Cau 7:\n"
      ]
    },
    {
      "cell_type": "code",
      "execution_count": 25,
      "metadata": {
        "colab": {
          "base_uri": "https://localhost:8080/"
        },
        "id": "p7QIIO4b2sMV",
        "outputId": "52e3d7bb-125c-4f46-c30b-e2ef15108f97"
      },
      "outputs": [
        {
          "name": "stdout",
          "output_type": "stream",
          "text": [
            "Phan tram sample bi khuyet: 1.45 %\n"
          ]
        }
      ],
      "source": [
        "count_nan = df.isna().sum().sum()\n",
        "ratio_nan = round(count_nan/df.count().sum()*100,2)\n",
        "print(\"Phan tram sample bi khuyet: \" + str(ratio_nan) + \" %\")"
      ]
    },
    {
      "cell_type": "markdown",
      "metadata": {
        "id": "sKzunxzt4qzm"
      },
      "source": [
        "#Cau 8"
      ]
    },
    {
      "cell_type": "code",
      "execution_count": 26,
      "metadata": {
        "colab": {
          "base_uri": "https://localhost:8080/"
        },
        "id": "qn_jgMDJdmPq",
        "outputId": "ea244308-32ff-4ae5-f443-6918affd8c18"
      },
      "outputs": [
        {
          "name": "stdout",
          "output_type": "stream",
          "text": [
            "0      122.006173\n",
            "1      122.006173\n",
            "2      164.000000\n",
            "3      164.000000\n",
            "4      122.006173\n",
            "          ...    \n",
            "199     95.000000\n",
            "200    122.006173\n",
            "201     95.000000\n",
            "202     95.000000\n",
            "203     95.000000\n",
            "Name: normalized-losses, Length: 204, dtype: float64\n"
          ]
        }
      ],
      "source": [
        "df.fillna(value=df['normalized-losses'].mean(), inplace = True)\n",
        "print(df['normalized-losses'])"
      ]
    },
    {
      "cell_type": "code",
      "execution_count": 27,
      "metadata": {
        "colab": {
          "base_uri": "https://localhost:8080/"
        },
        "id": "eSRSs0zQeasC",
        "outputId": "42ceb900-cd9e-4bf8-c51b-d7c1544da955"
      },
      "outputs": [
        {
          "name": "stdout",
          "output_type": "stream",
          "text": [
            "0      2.68\n",
            "1      3.47\n",
            "2      3.40\n",
            "3      3.40\n",
            "4      3.40\n",
            "       ... \n",
            "199    3.15\n",
            "200    3.15\n",
            "201    2.87\n",
            "202    3.40\n",
            "203    3.15\n",
            "Name: stroke, Length: 204, dtype: float64\n"
          ]
        }
      ],
      "source": [
        "import random\n",
        "df['stroke'].replace(np.nan, random.choice(df['stroke']), inplace = True)\n",
        "print(df['stroke'])"
      ]
    },
    {
      "cell_type": "code",
      "execution_count": 28,
      "metadata": {
        "colab": {
          "base_uri": "https://localhost:8080/"
        },
        "id": "e9EpDi_KAq9o",
        "outputId": "19bf50a0-9535-4845-bfaa-78c3523ff2d8"
      },
      "outputs": [
        {
          "name": "stdout",
          "output_type": "stream",
          "text": [
            "0      3.47\n",
            "1      2.68\n",
            "2      3.19\n",
            "3      3.19\n",
            "4      3.19\n",
            "       ... \n",
            "199    3.78\n",
            "200    3.78\n",
            "201    3.58\n",
            "202    3.01\n",
            "203    3.78\n",
            "Name: bore, Length: 204, dtype: float64\n"
          ]
        }
      ],
      "source": [
        "df.fillna(value=df['bore'].mean(), inplace = True)\n",
        "print(df['bore'])"
      ]
    },
    {
      "cell_type": "code",
      "execution_count": 29,
      "metadata": {
        "colab": {
          "base_uri": "https://localhost:8080/"
        },
        "id": "ATFsr6X6QteO",
        "outputId": "f7b8753e-5040-4966-b647-858ad3a2941b"
      },
      "outputs": [
        {
          "name": "stdout",
          "output_type": "stream",
          "text": [
            "0      111.0\n",
            "1      154.0\n",
            "2      102.0\n",
            "3      115.0\n",
            "4      110.0\n",
            "       ...  \n",
            "199    114.0\n",
            "200    160.0\n",
            "201    134.0\n",
            "202    106.0\n",
            "203    114.0\n",
            "Name: horsepower, Length: 204, dtype: float64\n"
          ]
        }
      ],
      "source": [
        "df['horsepower'].replace(np.nan, random.choice(df['horsepower']), inplace = True)\n",
        "print(df['horsepower'])"
      ]
    },
    {
      "cell_type": "code",
      "execution_count": 30,
      "metadata": {
        "colab": {
          "base_uri": "https://localhost:8080/"
        },
        "id": "HrFbCtRLQ5KB",
        "outputId": "e1d449b5-28a9-4a69-e5f8-e05ca1d4b936"
      },
      "outputs": [
        {
          "name": "stdout",
          "output_type": "stream",
          "text": [
            "0      5000.0\n",
            "1      5000.0\n",
            "2      5500.0\n",
            "3      5500.0\n",
            "4      5500.0\n",
            "        ...  \n",
            "199    5400.0\n",
            "200    5300.0\n",
            "201    5500.0\n",
            "202    4800.0\n",
            "203    5400.0\n",
            "Name: peak-rpm, Length: 204, dtype: float64\n"
          ]
        }
      ],
      "source": [
        "df.fillna(value=df['peak-rpm'].mean(), inplace = True)\n",
        "print(df['peak-rpm'])"
      ]
    },
    {
      "cell_type": "code",
      "execution_count": 31,
      "metadata": {
        "id": "3QlX8GxBBVES"
      },
      "outputs": [],
      "source": [
        "from pickle import TRUE\n",
        "ls1 = [\"one\", \"two\", \"three\", \"four\"]\n",
        "ls2 = [\"1\", \"2\", \"3\", \"4\"]\n",
        "df[\"num-of-doors\"].replace(to_replace = ls1, value = ls2, inplace =True)"
      ]
    },
    {
      "cell_type": "code",
      "execution_count": 35,
      "metadata": {
        "id": "_llqV-3rxm5C"
      },
      "outputs": [],
      "source": [
        "df['num-of-doors'] = df['num-of-doors'].replace(np.nan, df['num-of-doors'].unique()[1])"
      ]
    },
    {
      "cell_type": "code",
      "execution_count": 36,
      "metadata": {
        "id": "mtedV2L9xySC"
      },
      "outputs": [],
      "source": [
        "df.to_csv(\"df_cau08.csv\")"
      ]
    },
    {
      "cell_type": "markdown",
      "metadata": {
        "id": "ycpIOji2x3Vc"
      },
      "source": [
        "#Cau 9:"
      ]
    },
    {
      "cell_type": "code",
      "execution_count": 38,
      "metadata": {
        "colab": {
          "base_uri": "https://localhost:8080/"
        },
        "id": "1f2e29e0",
        "outputId": "e112acb8-11b2-4e70-a974-122f3a168be4"
      },
      "outputs": [
        {
          "name": "stdout",
          "output_type": "stream",
          "text": [
            "<class 'pandas.core.frame.DataFrame'>\n",
            "RangeIndex: 204 entries, 0 to 203\n",
            "Data columns (total 26 columns):\n",
            " #   Column             Non-Null Count  Dtype  \n",
            "---  ------             --------------  -----  \n",
            " 0   symboling          204 non-null    int64  \n",
            " 1   normalized-losses  204 non-null    float64\n",
            " 2   make               204 non-null    object \n",
            " 3   fuel-type          204 non-null    object \n",
            " 4   aspiration         204 non-null    object \n",
            " 5   num-of-doors       204 non-null    int64  \n",
            " 6   body-style         204 non-null    object \n",
            " 7   drive-wheels       204 non-null    object \n",
            " 8   engine-location    204 non-null    object \n",
            " 9   wheel-base         204 non-null    float64\n",
            " 10  length             204 non-null    float64\n",
            " 11  width              204 non-null    float64\n",
            " 12  height             204 non-null    float64\n",
            " 13  curb-weight        204 non-null    float64\n",
            " 14  engine-type        204 non-null    object \n",
            " 15  num-of-cylinders   204 non-null    object \n",
            " 16  engine\u0002size        204 non-null    int64  \n",
            " 17  fuel-system        204 non-null    object \n",
            " 18  bore               204 non-null    float64\n",
            " 19  stroke             204 non-null    float64\n",
            " 20  compression-ratio  204 non-null    float64\n",
            " 21  horsepower         204 non-null    float64\n",
            " 22  peak-rpm           204 non-null    float64\n",
            " 23  city-mpg           204 non-null    int64  \n",
            " 24  highway-mpg        204 non-null    int64  \n",
            " 25  price              204 non-null    float64\n",
            "dtypes: float64(12), int64(5), object(9)\n",
            "memory usage: 41.6+ KB\n"
          ]
        }
      ],
      "source": [
        "df.info()"
      ]
    },
    {
      "cell_type": "code",
      "execution_count": 39,
      "metadata": {
        "colab": {
          "base_uri": "https://localhost:8080/",
          "height": 49
        },
        "id": "89370460",
        "outputId": "64715859-f1ce-4803-8997-dd57697124df"
      },
      "outputs": [
        {
          "data": {
            "text/html": [
              "\n",
              "  <div id=\"df-49f7af85-d475-4b71-9de2-b68b28e17435\">\n",
              "    <div class=\"colab-df-container\">\n",
              "      <div>\n",
              "<style scoped>\n",
              "    .dataframe tbody tr th:only-of-type {\n",
              "        vertical-align: middle;\n",
              "    }\n",
              "\n",
              "    .dataframe tbody tr th {\n",
              "        vertical-align: top;\n",
              "    }\n",
              "\n",
              "    .dataframe thead th {\n",
              "        text-align: right;\n",
              "    }\n",
              "</style>\n",
              "<table border=\"1\" class=\"dataframe\">\n",
              "  <thead>\n",
              "    <tr style=\"text-align: right;\">\n",
              "      <th></th>\n",
              "      <th>wheel-base</th>\n",
              "      <th>length</th>\n",
              "      <th>width</th>\n",
              "      <th>curb-weight</th>\n",
              "      <th>price</th>\n",
              "    </tr>\n",
              "  </thead>\n",
              "  <tbody>\n",
              "  </tbody>\n",
              "</table>\n",
              "</div>\n",
              "      <button class=\"colab-df-convert\" onclick=\"convertToInteractive('df-49f7af85-d475-4b71-9de2-b68b28e17435')\"\n",
              "              title=\"Convert this dataframe to an interactive table.\"\n",
              "              style=\"display:none;\">\n",
              "        \n",
              "  <svg xmlns=\"http://www.w3.org/2000/svg\" height=\"24px\"viewBox=\"0 0 24 24\"\n",
              "       width=\"24px\">\n",
              "    <path d=\"M0 0h24v24H0V0z\" fill=\"none\"/>\n",
              "    <path d=\"M18.56 5.44l.94 2.06.94-2.06 2.06-.94-2.06-.94-.94-2.06-.94 2.06-2.06.94zm-11 1L8.5 8.5l.94-2.06 2.06-.94-2.06-.94L8.5 2.5l-.94 2.06-2.06.94zm10 10l.94 2.06.94-2.06 2.06-.94-2.06-.94-.94-2.06-.94 2.06-2.06.94z\"/><path d=\"M17.41 7.96l-1.37-1.37c-.4-.4-.92-.59-1.43-.59-.52 0-1.04.2-1.43.59L10.3 9.45l-7.72 7.72c-.78.78-.78 2.05 0 2.83L4 21.41c.39.39.9.59 1.41.59.51 0 1.02-.2 1.41-.59l7.78-7.78 2.81-2.81c.8-.78.8-2.07 0-2.86zM5.41 20L4 18.59l7.72-7.72 1.47 1.35L5.41 20z\"/>\n",
              "  </svg>\n",
              "      </button>\n",
              "      \n",
              "  <style>\n",
              "    .colab-df-container {\n",
              "      display:flex;\n",
              "      flex-wrap:wrap;\n",
              "      gap: 12px;\n",
              "    }\n",
              "\n",
              "    .colab-df-convert {\n",
              "      background-color: #E8F0FE;\n",
              "      border: none;\n",
              "      border-radius: 50%;\n",
              "      cursor: pointer;\n",
              "      display: none;\n",
              "      fill: #1967D2;\n",
              "      height: 32px;\n",
              "      padding: 0 0 0 0;\n",
              "      width: 32px;\n",
              "    }\n",
              "\n",
              "    .colab-df-convert:hover {\n",
              "      background-color: #E2EBFA;\n",
              "      box-shadow: 0px 1px 2px rgba(60, 64, 67, 0.3), 0px 1px 3px 1px rgba(60, 64, 67, 0.15);\n",
              "      fill: #174EA6;\n",
              "    }\n",
              "\n",
              "    [theme=dark] .colab-df-convert {\n",
              "      background-color: #3B4455;\n",
              "      fill: #D2E3FC;\n",
              "    }\n",
              "\n",
              "    [theme=dark] .colab-df-convert:hover {\n",
              "      background-color: #434B5C;\n",
              "      box-shadow: 0px 1px 3px 1px rgba(0, 0, 0, 0.15);\n",
              "      filter: drop-shadow(0px 1px 2px rgba(0, 0, 0, 0.3));\n",
              "      fill: #FFFFFF;\n",
              "    }\n",
              "  </style>\n",
              "\n",
              "      <script>\n",
              "        const buttonEl =\n",
              "          document.querySelector('#df-49f7af85-d475-4b71-9de2-b68b28e17435 button.colab-df-convert');\n",
              "        buttonEl.style.display =\n",
              "          google.colab.kernel.accessAllowed ? 'block' : 'none';\n",
              "\n",
              "        async function convertToInteractive(key) {\n",
              "          const element = document.querySelector('#df-49f7af85-d475-4b71-9de2-b68b28e17435');\n",
              "          const dataTable =\n",
              "            await google.colab.kernel.invokeFunction('convertToInteractive',\n",
              "                                                     [key], {});\n",
              "          if (!dataTable) return;\n",
              "\n",
              "          const docLinkHtml = 'Like what you see? Visit the ' +\n",
              "            '<a target=\"_blank\" href=https://colab.research.google.com/notebooks/data_table.ipynb>data table notebook</a>'\n",
              "            + ' to learn more about interactive tables.';\n",
              "          element.innerHTML = '';\n",
              "          dataTable['output_type'] = 'display_data';\n",
              "          await google.colab.output.renderOutput(dataTable, element);\n",
              "          const docLink = document.createElement('div');\n",
              "          docLink.innerHTML = docLinkHtml;\n",
              "          element.appendChild(docLink);\n",
              "        }\n",
              "      </script>\n",
              "    </div>\n",
              "  </div>\n",
              "  "
            ],
            "text/plain": [
              "Empty DataFrame\n",
              "Columns: [wheel-base, length, width, curb-weight, price]\n",
              "Index: []"
            ]
          },
          "execution_count": 39,
          "metadata": {},
          "output_type": "execute_result"
        }
      ],
      "source": [
        "from sklearn.impute import KNNImputer\n",
        "imputer = KNNImputer(n_neighbors=2)\n",
        "temp = df[['wheel-base', 'length', 'width', 'curb-weight', 'price']]\n",
        "\n",
        "non_missing_data = imputer.fit_transform(temp)\n",
        "new_data = pd.DataFrame(non_missing_df, columns=temp.columns)\n",
        "new_df.loc[temp[temp.isna().any(axis=1)].index, :]"
      ]
    },
    {
      "cell_type": "code",
      "execution_count": 40,
      "metadata": {
        "colab": {
          "base_uri": "https://localhost:8080/"
        },
        "id": "79b6b919",
        "outputId": "c77d1eb1-7174-4602-f2c3-34e3fab06e6f"
      },
      "outputs": [
        {
          "data": {
            "text/plain": [
              "symboling            False\n",
              "normalized-losses    False\n",
              "make                 False\n",
              "fuel-type            False\n",
              "aspiration           False\n",
              "num-of-doors         False\n",
              "body-style           False\n",
              "drive-wheels         False\n",
              "engine-location      False\n",
              "wheel-base           False\n",
              "length               False\n",
              "width                False\n",
              "height               False\n",
              "curb-weight          False\n",
              "engine-type          False\n",
              "num-of-cylinders     False\n",
              "engine\u0002size          False\n",
              "fuel-system          False\n",
              "bore                 False\n",
              "stroke               False\n",
              "compression-ratio    False\n",
              "horsepower           False\n",
              "peak-rpm             False\n",
              "city-mpg             False\n",
              "highway-mpg          False\n",
              "price                False\n",
              "dtype: bool"
            ]
          },
          "execution_count": 40,
          "metadata": {},
          "output_type": "execute_result"
        }
      ],
      "source": [
        "df[['wheel-base', 'length','width', 'curb-weight','price']] = new_df.copy()\n",
        "df.isnull().any()"
      ]
    },
    {
      "cell_type": "code",
      "execution_count": 41,
      "metadata": {
        "id": "596b7d7f"
      },
      "outputs": [],
      "source": [
        "df.to_csv(\"df_cau09.csv\")"
      ]
    },
    {
      "cell_type": "markdown",
      "metadata": {
        "id": "cb5dc20d"
      },
      "source": [
        "# Câu 10. \n",
        "Dùng phương pháp loại bỏ (drop) cho các sample đối với các feature bị khuyết"
      ]
    },
    {
      "cell_type": "code",
      "execution_count": 42,
      "metadata": {
        "colab": {
          "base_uri": "https://localhost:8080/",
          "height": 557
        },
        "id": "db20d4f5",
        "outputId": "cb0da506-6112-4b1f-9269-66163ac87839"
      },
      "outputs": [
        {
          "data": {
            "text/html": [
              "\n",
              "  <div id=\"df-ad898718-86cd-4f2f-9a57-1cedb11fa2e7\">\n",
              "    <div class=\"colab-df-container\">\n",
              "      <div>\n",
              "<style scoped>\n",
              "    .dataframe tbody tr th:only-of-type {\n",
              "        vertical-align: middle;\n",
              "    }\n",
              "\n",
              "    .dataframe tbody tr th {\n",
              "        vertical-align: top;\n",
              "    }\n",
              "\n",
              "    .dataframe thead th {\n",
              "        text-align: right;\n",
              "    }\n",
              "</style>\n",
              "<table border=\"1\" class=\"dataframe\">\n",
              "  <thead>\n",
              "    <tr style=\"text-align: right;\">\n",
              "      <th></th>\n",
              "      <th>symboling</th>\n",
              "      <th>normalized-losses</th>\n",
              "      <th>make</th>\n",
              "      <th>fuel-type</th>\n",
              "      <th>aspiration</th>\n",
              "      <th>num-of-doors</th>\n",
              "      <th>body-style</th>\n",
              "      <th>drive-wheels</th>\n",
              "      <th>engine-location</th>\n",
              "      <th>wheel-base</th>\n",
              "      <th>...</th>\n",
              "      <th>engine\u0002size</th>\n",
              "      <th>fuel-system</th>\n",
              "      <th>bore</th>\n",
              "      <th>stroke</th>\n",
              "      <th>compression-ratio</th>\n",
              "      <th>horsepower</th>\n",
              "      <th>peak-rpm</th>\n",
              "      <th>city-mpg</th>\n",
              "      <th>highway-mpg</th>\n",
              "      <th>price</th>\n",
              "    </tr>\n",
              "  </thead>\n",
              "  <tbody>\n",
              "    <tr>\n",
              "      <th>0</th>\n",
              "      <td>3</td>\n",
              "      <td>122.006173</td>\n",
              "      <td>alfa-romero</td>\n",
              "      <td>gas</td>\n",
              "      <td>std</td>\n",
              "      <td>2</td>\n",
              "      <td>convertible</td>\n",
              "      <td>rwd</td>\n",
              "      <td>front</td>\n",
              "      <td>88.6</td>\n",
              "      <td>...</td>\n",
              "      <td>130</td>\n",
              "      <td>mpfi</td>\n",
              "      <td>3.47</td>\n",
              "      <td>2.68</td>\n",
              "      <td>9.0</td>\n",
              "      <td>111.0</td>\n",
              "      <td>5000.0</td>\n",
              "      <td>21</td>\n",
              "      <td>27</td>\n",
              "      <td>16500.0</td>\n",
              "    </tr>\n",
              "    <tr>\n",
              "      <th>1</th>\n",
              "      <td>1</td>\n",
              "      <td>122.006173</td>\n",
              "      <td>alfa-romero</td>\n",
              "      <td>gas</td>\n",
              "      <td>std</td>\n",
              "      <td>2</td>\n",
              "      <td>hatchback</td>\n",
              "      <td>rwd</td>\n",
              "      <td>front</td>\n",
              "      <td>94.5</td>\n",
              "      <td>...</td>\n",
              "      <td>152</td>\n",
              "      <td>mpfi</td>\n",
              "      <td>2.68</td>\n",
              "      <td>3.47</td>\n",
              "      <td>9.0</td>\n",
              "      <td>154.0</td>\n",
              "      <td>5000.0</td>\n",
              "      <td>19</td>\n",
              "      <td>26</td>\n",
              "      <td>16500.0</td>\n",
              "    </tr>\n",
              "    <tr>\n",
              "      <th>2</th>\n",
              "      <td>2</td>\n",
              "      <td>164.000000</td>\n",
              "      <td>audi</td>\n",
              "      <td>gas</td>\n",
              "      <td>std</td>\n",
              "      <td>4</td>\n",
              "      <td>sedan</td>\n",
              "      <td>fwd</td>\n",
              "      <td>front</td>\n",
              "      <td>99.8</td>\n",
              "      <td>...</td>\n",
              "      <td>109</td>\n",
              "      <td>mpfi</td>\n",
              "      <td>3.19</td>\n",
              "      <td>3.40</td>\n",
              "      <td>10.0</td>\n",
              "      <td>102.0</td>\n",
              "      <td>5500.0</td>\n",
              "      <td>24</td>\n",
              "      <td>30</td>\n",
              "      <td>13950.0</td>\n",
              "    </tr>\n",
              "    <tr>\n",
              "      <th>3</th>\n",
              "      <td>2</td>\n",
              "      <td>164.000000</td>\n",
              "      <td>audi</td>\n",
              "      <td>gas</td>\n",
              "      <td>std</td>\n",
              "      <td>4</td>\n",
              "      <td>sedan</td>\n",
              "      <td>4wd</td>\n",
              "      <td>front</td>\n",
              "      <td>99.4</td>\n",
              "      <td>...</td>\n",
              "      <td>136</td>\n",
              "      <td>mpfi</td>\n",
              "      <td>3.19</td>\n",
              "      <td>3.40</td>\n",
              "      <td>8.0</td>\n",
              "      <td>115.0</td>\n",
              "      <td>5500.0</td>\n",
              "      <td>18</td>\n",
              "      <td>22</td>\n",
              "      <td>17450.0</td>\n",
              "    </tr>\n",
              "    <tr>\n",
              "      <th>4</th>\n",
              "      <td>2</td>\n",
              "      <td>122.006173</td>\n",
              "      <td>audi</td>\n",
              "      <td>gas</td>\n",
              "      <td>std</td>\n",
              "      <td>2</td>\n",
              "      <td>sedan</td>\n",
              "      <td>fwd</td>\n",
              "      <td>front</td>\n",
              "      <td>99.8</td>\n",
              "      <td>...</td>\n",
              "      <td>136</td>\n",
              "      <td>mpfi</td>\n",
              "      <td>3.19</td>\n",
              "      <td>3.40</td>\n",
              "      <td>8.5</td>\n",
              "      <td>110.0</td>\n",
              "      <td>5500.0</td>\n",
              "      <td>19</td>\n",
              "      <td>25</td>\n",
              "      <td>15250.0</td>\n",
              "    </tr>\n",
              "    <tr>\n",
              "      <th>...</th>\n",
              "      <td>...</td>\n",
              "      <td>...</td>\n",
              "      <td>...</td>\n",
              "      <td>...</td>\n",
              "      <td>...</td>\n",
              "      <td>...</td>\n",
              "      <td>...</td>\n",
              "      <td>...</td>\n",
              "      <td>...</td>\n",
              "      <td>...</td>\n",
              "      <td>...</td>\n",
              "      <td>...</td>\n",
              "      <td>...</td>\n",
              "      <td>...</td>\n",
              "      <td>...</td>\n",
              "      <td>...</td>\n",
              "      <td>...</td>\n",
              "      <td>...</td>\n",
              "      <td>...</td>\n",
              "      <td>...</td>\n",
              "      <td>...</td>\n",
              "    </tr>\n",
              "    <tr>\n",
              "      <th>199</th>\n",
              "      <td>-1</td>\n",
              "      <td>95.000000</td>\n",
              "      <td>volvo</td>\n",
              "      <td>gas</td>\n",
              "      <td>std</td>\n",
              "      <td>4</td>\n",
              "      <td>sedan</td>\n",
              "      <td>rwd</td>\n",
              "      <td>front</td>\n",
              "      <td>109.1</td>\n",
              "      <td>...</td>\n",
              "      <td>141</td>\n",
              "      <td>mpfi</td>\n",
              "      <td>3.78</td>\n",
              "      <td>3.15</td>\n",
              "      <td>9.5</td>\n",
              "      <td>114.0</td>\n",
              "      <td>5400.0</td>\n",
              "      <td>23</td>\n",
              "      <td>28</td>\n",
              "      <td>16845.0</td>\n",
              "    </tr>\n",
              "    <tr>\n",
              "      <th>200</th>\n",
              "      <td>-1</td>\n",
              "      <td>122.006173</td>\n",
              "      <td>volvo</td>\n",
              "      <td>gas</td>\n",
              "      <td>turbo</td>\n",
              "      <td>4</td>\n",
              "      <td>sedan</td>\n",
              "      <td>rwd</td>\n",
              "      <td>front</td>\n",
              "      <td>109.1</td>\n",
              "      <td>...</td>\n",
              "      <td>141</td>\n",
              "      <td>mpfi</td>\n",
              "      <td>3.78</td>\n",
              "      <td>3.15</td>\n",
              "      <td>8.7</td>\n",
              "      <td>160.0</td>\n",
              "      <td>5300.0</td>\n",
              "      <td>19</td>\n",
              "      <td>25</td>\n",
              "      <td>19045.0</td>\n",
              "    </tr>\n",
              "    <tr>\n",
              "      <th>201</th>\n",
              "      <td>-1</td>\n",
              "      <td>95.000000</td>\n",
              "      <td>volvo</td>\n",
              "      <td>gas</td>\n",
              "      <td>std</td>\n",
              "      <td>4</td>\n",
              "      <td>sedan</td>\n",
              "      <td>rwd</td>\n",
              "      <td>front</td>\n",
              "      <td>109.1</td>\n",
              "      <td>...</td>\n",
              "      <td>173</td>\n",
              "      <td>mpfi</td>\n",
              "      <td>3.58</td>\n",
              "      <td>2.87</td>\n",
              "      <td>8.8</td>\n",
              "      <td>134.0</td>\n",
              "      <td>5500.0</td>\n",
              "      <td>18</td>\n",
              "      <td>23</td>\n",
              "      <td>21485.0</td>\n",
              "    </tr>\n",
              "    <tr>\n",
              "      <th>202</th>\n",
              "      <td>-1</td>\n",
              "      <td>95.000000</td>\n",
              "      <td>volvo</td>\n",
              "      <td>diesel</td>\n",
              "      <td>turbo</td>\n",
              "      <td>4</td>\n",
              "      <td>sedan</td>\n",
              "      <td>rwd</td>\n",
              "      <td>front</td>\n",
              "      <td>109.1</td>\n",
              "      <td>...</td>\n",
              "      <td>145</td>\n",
              "      <td>idi</td>\n",
              "      <td>3.01</td>\n",
              "      <td>3.40</td>\n",
              "      <td>23.0</td>\n",
              "      <td>106.0</td>\n",
              "      <td>4800.0</td>\n",
              "      <td>26</td>\n",
              "      <td>27</td>\n",
              "      <td>22470.0</td>\n",
              "    </tr>\n",
              "    <tr>\n",
              "      <th>203</th>\n",
              "      <td>-1</td>\n",
              "      <td>95.000000</td>\n",
              "      <td>volvo</td>\n",
              "      <td>gas</td>\n",
              "      <td>turbo</td>\n",
              "      <td>4</td>\n",
              "      <td>sedan</td>\n",
              "      <td>rwd</td>\n",
              "      <td>front</td>\n",
              "      <td>109.1</td>\n",
              "      <td>...</td>\n",
              "      <td>141</td>\n",
              "      <td>mpfi</td>\n",
              "      <td>3.78</td>\n",
              "      <td>3.15</td>\n",
              "      <td>9.5</td>\n",
              "      <td>114.0</td>\n",
              "      <td>5400.0</td>\n",
              "      <td>19</td>\n",
              "      <td>25</td>\n",
              "      <td>22625.0</td>\n",
              "    </tr>\n",
              "  </tbody>\n",
              "</table>\n",
              "<p>204 rows × 26 columns</p>\n",
              "</div>\n",
              "      <button class=\"colab-df-convert\" onclick=\"convertToInteractive('df-ad898718-86cd-4f2f-9a57-1cedb11fa2e7')\"\n",
              "              title=\"Convert this dataframe to an interactive table.\"\n",
              "              style=\"display:none;\">\n",
              "        \n",
              "  <svg xmlns=\"http://www.w3.org/2000/svg\" height=\"24px\"viewBox=\"0 0 24 24\"\n",
              "       width=\"24px\">\n",
              "    <path d=\"M0 0h24v24H0V0z\" fill=\"none\"/>\n",
              "    <path d=\"M18.56 5.44l.94 2.06.94-2.06 2.06-.94-2.06-.94-.94-2.06-.94 2.06-2.06.94zm-11 1L8.5 8.5l.94-2.06 2.06-.94-2.06-.94L8.5 2.5l-.94 2.06-2.06.94zm10 10l.94 2.06.94-2.06 2.06-.94-2.06-.94-.94-2.06-.94 2.06-2.06.94z\"/><path d=\"M17.41 7.96l-1.37-1.37c-.4-.4-.92-.59-1.43-.59-.52 0-1.04.2-1.43.59L10.3 9.45l-7.72 7.72c-.78.78-.78 2.05 0 2.83L4 21.41c.39.39.9.59 1.41.59.51 0 1.02-.2 1.41-.59l7.78-7.78 2.81-2.81c.8-.78.8-2.07 0-2.86zM5.41 20L4 18.59l7.72-7.72 1.47 1.35L5.41 20z\"/>\n",
              "  </svg>\n",
              "      </button>\n",
              "      \n",
              "  <style>\n",
              "    .colab-df-container {\n",
              "      display:flex;\n",
              "      flex-wrap:wrap;\n",
              "      gap: 12px;\n",
              "    }\n",
              "\n",
              "    .colab-df-convert {\n",
              "      background-color: #E8F0FE;\n",
              "      border: none;\n",
              "      border-radius: 50%;\n",
              "      cursor: pointer;\n",
              "      display: none;\n",
              "      fill: #1967D2;\n",
              "      height: 32px;\n",
              "      padding: 0 0 0 0;\n",
              "      width: 32px;\n",
              "    }\n",
              "\n",
              "    .colab-df-convert:hover {\n",
              "      background-color: #E2EBFA;\n",
              "      box-shadow: 0px 1px 2px rgba(60, 64, 67, 0.3), 0px 1px 3px 1px rgba(60, 64, 67, 0.15);\n",
              "      fill: #174EA6;\n",
              "    }\n",
              "\n",
              "    [theme=dark] .colab-df-convert {\n",
              "      background-color: #3B4455;\n",
              "      fill: #D2E3FC;\n",
              "    }\n",
              "\n",
              "    [theme=dark] .colab-df-convert:hover {\n",
              "      background-color: #434B5C;\n",
              "      box-shadow: 0px 1px 3px 1px rgba(0, 0, 0, 0.15);\n",
              "      filter: drop-shadow(0px 1px 2px rgba(0, 0, 0, 0.3));\n",
              "      fill: #FFFFFF;\n",
              "    }\n",
              "  </style>\n",
              "\n",
              "      <script>\n",
              "        const buttonEl =\n",
              "          document.querySelector('#df-ad898718-86cd-4f2f-9a57-1cedb11fa2e7 button.colab-df-convert');\n",
              "        buttonEl.style.display =\n",
              "          google.colab.kernel.accessAllowed ? 'block' : 'none';\n",
              "\n",
              "        async function convertToInteractive(key) {\n",
              "          const element = document.querySelector('#df-ad898718-86cd-4f2f-9a57-1cedb11fa2e7');\n",
              "          const dataTable =\n",
              "            await google.colab.kernel.invokeFunction('convertToInteractive',\n",
              "                                                     [key], {});\n",
              "          if (!dataTable) return;\n",
              "\n",
              "          const docLinkHtml = 'Like what you see? Visit the ' +\n",
              "            '<a target=\"_blank\" href=https://colab.research.google.com/notebooks/data_table.ipynb>data table notebook</a>'\n",
              "            + ' to learn more about interactive tables.';\n",
              "          element.innerHTML = '';\n",
              "          dataTable['output_type'] = 'display_data';\n",
              "          await google.colab.output.renderOutput(dataTable, element);\n",
              "          const docLink = document.createElement('div');\n",
              "          docLink.innerHTML = docLinkHtml;\n",
              "          element.appendChild(docLink);\n",
              "        }\n",
              "      </script>\n",
              "    </div>\n",
              "  </div>\n",
              "  "
            ],
            "text/plain": [
              "     symboling  normalized-losses         make fuel-type aspiration  \\\n",
              "0            3         122.006173  alfa-romero       gas        std   \n",
              "1            1         122.006173  alfa-romero       gas        std   \n",
              "2            2         164.000000         audi       gas        std   \n",
              "3            2         164.000000         audi       gas        std   \n",
              "4            2         122.006173         audi       gas        std   \n",
              "..         ...                ...          ...       ...        ...   \n",
              "199         -1          95.000000        volvo       gas        std   \n",
              "200         -1         122.006173        volvo       gas      turbo   \n",
              "201         -1          95.000000        volvo       gas        std   \n",
              "202         -1          95.000000        volvo    diesel      turbo   \n",
              "203         -1          95.000000        volvo       gas      turbo   \n",
              "\n",
              "     num-of-doors   body-style drive-wheels engine-location  wheel-base  ...  \\\n",
              "0               2  convertible          rwd           front        88.6  ...   \n",
              "1               2    hatchback          rwd           front        94.5  ...   \n",
              "2               4        sedan          fwd           front        99.8  ...   \n",
              "3               4        sedan          4wd           front        99.4  ...   \n",
              "4               2        sedan          fwd           front        99.8  ...   \n",
              "..            ...          ...          ...             ...         ...  ...   \n",
              "199             4        sedan          rwd           front       109.1  ...   \n",
              "200             4        sedan          rwd           front       109.1  ...   \n",
              "201             4        sedan          rwd           front       109.1  ...   \n",
              "202             4        sedan          rwd           front       109.1  ...   \n",
              "203             4        sedan          rwd           front       109.1  ...   \n",
              "\n",
              "     engine\u0002size  fuel-system  bore  stroke compression-ratio horsepower  \\\n",
              "0            130         mpfi  3.47    2.68               9.0      111.0   \n",
              "1            152         mpfi  2.68    3.47               9.0      154.0   \n",
              "2            109         mpfi  3.19    3.40              10.0      102.0   \n",
              "3            136         mpfi  3.19    3.40               8.0      115.0   \n",
              "4            136         mpfi  3.19    3.40               8.5      110.0   \n",
              "..           ...          ...   ...     ...               ...        ...   \n",
              "199          141         mpfi  3.78    3.15               9.5      114.0   \n",
              "200          141         mpfi  3.78    3.15               8.7      160.0   \n",
              "201          173         mpfi  3.58    2.87               8.8      134.0   \n",
              "202          145          idi  3.01    3.40              23.0      106.0   \n",
              "203          141         mpfi  3.78    3.15               9.5      114.0   \n",
              "\n",
              "     peak-rpm city-mpg  highway-mpg    price  \n",
              "0      5000.0       21           27  16500.0  \n",
              "1      5000.0       19           26  16500.0  \n",
              "2      5500.0       24           30  13950.0  \n",
              "3      5500.0       18           22  17450.0  \n",
              "4      5500.0       19           25  15250.0  \n",
              "..        ...      ...          ...      ...  \n",
              "199    5400.0       23           28  16845.0  \n",
              "200    5300.0       19           25  19045.0  \n",
              "201    5500.0       18           23  21485.0  \n",
              "202    4800.0       26           27  22470.0  \n",
              "203    5400.0       19           25  22625.0  \n",
              "\n",
              "[204 rows x 26 columns]"
            ]
          },
          "execution_count": 42,
          "metadata": {},
          "output_type": "execute_result"
        }
      ],
      "source": [
        "df.dropna()"
      ]
    },
    {
      "cell_type": "code",
      "execution_count": 43,
      "metadata": {
        "id": "4dc0f516"
      },
      "outputs": [],
      "source": [
        "df.to_csv(\"df_cau10.csv\")"
      ]
    },
    {
      "cell_type": "markdown",
      "metadata": {
        "id": "035cfddc"
      },
      "source": [
        "# Cau 11 \n",
        "Viết hàm kiểm tra xem một df có còn bị khuyết dữ liệu không? Nếu không khuyết trả về true, ngược lại false"
      ]
    },
    {
      "cell_type": "markdown",
      "metadata": {
        "id": "f1dec4af"
      },
      "source": [
        "# Cau 12:\n",
        "Chuẩn hóa \"length\", \"width\" và \"height\" trong phạm vi [0,1]"
      ]
    },
    {
      "cell_type": "code",
      "execution_count": 44,
      "metadata": {
        "id": "4d493541"
      },
      "outputs": [],
      "source": [
        "df[\"length\"] = df[\"length\"]/df[\"length\"].max()"
      ]
    },
    {
      "cell_type": "code",
      "execution_count": 46,
      "metadata": {
        "id": "2f2b7df6"
      },
      "outputs": [],
      "source": [
        "df[\"width\"] = df[\"width\"]/df[\"width\"].max()"
      ]
    },
    {
      "cell_type": "code",
      "execution_count": 47,
      "metadata": {
        "id": "430904a9"
      },
      "outputs": [],
      "source": [
        "df[\"height\"] = df[\"height\"]/df[\"height\"].max()"
      ]
    },
    {
      "cell_type": "code",
      "execution_count": 48,
      "metadata": {
        "id": "cea67d3c"
      },
      "outputs": [],
      "source": [
        "df.to_csv(\"df_cau12.csv\")"
      ]
    },
    {
      "cell_type": "markdown",
      "metadata": {
        "id": "074fd88d"
      },
      "source": [
        "#Cau 13. \n",
        "Tạo các bin là ['Low', 'Medium', 'High'] cho “horsepower” và “price”"
      ]
    },
    {
      "cell_type": "markdown",
      "metadata": {
        "id": "e859af58"
      },
      "source": [
        "## horsepower"
      ]
    },
    {
      "cell_type": "code",
      "execution_count": 49,
      "metadata": {
        "colab": {
          "base_uri": "https://localhost:8080/"
        },
        "id": "2370dac7",
        "outputId": "d56b5277-4488-410b-ac5b-9f9e5ebb30bc"
      },
      "outputs": [
        {
          "data": {
            "text/plain": [
              "array([ 48., 128., 208., 288.])"
            ]
          },
          "execution_count": 49,
          "metadata": {},
          "output_type": "execute_result"
        }
      ],
      "source": [
        "bins = np.linspace(min(df['horsepower']), max(df['horsepower']),4)\n",
        "bins"
      ]
    },
    {
      "cell_type": "code",
      "execution_count": 50,
      "metadata": {
        "id": "9e29b67f"
      },
      "outputs": [],
      "source": [
        "label_hp=['low', 'medium', 'high']"
      ]
    },
    {
      "cell_type": "code",
      "execution_count": 51,
      "metadata": {
        "colab": {
          "base_uri": "https://localhost:8080/"
        },
        "id": "094d7131",
        "outputId": "1e0e44f9-5d9e-43cf-9b5f-77477d6caa9b"
      },
      "outputs": [
        {
          "data": {
            "text/plain": [
              "0         low\n",
              "1      medium\n",
              "2         low\n",
              "3         low\n",
              "4         low\n",
              "        ...  \n",
              "199       low\n",
              "200    medium\n",
              "201    medium\n",
              "202       low\n",
              "203       low\n",
              "Name: horsepower-bin, Length: 204, dtype: category\n",
              "Categories (3, object): ['low' < 'medium' < 'high']"
            ]
          },
          "execution_count": 51,
          "metadata": {},
          "output_type": "execute_result"
        }
      ],
      "source": [
        "df['horsepower-bin'] = pd.cut(df['horsepower'], bins, labels = label_hp, include_lowest=True)\n",
        "df['horsepower-bin']"
      ]
    },
    {
      "cell_type": "markdown",
      "metadata": {
        "id": "fbc8b621"
      },
      "source": [
        "## price"
      ]
    },
    {
      "cell_type": "code",
      "execution_count": 52,
      "metadata": {
        "colab": {
          "base_uri": "https://localhost:8080/"
        },
        "id": "5f01b478",
        "outputId": "71099171-d646-49d2-bd00-593868c1904e"
      },
      "outputs": [
        {
          "data": {
            "text/plain": [
              "0      medium\n",
              "1      medium\n",
              "2         low\n",
              "3      medium\n",
              "4      medium\n",
              "        ...  \n",
              "199    medium\n",
              "200    medium\n",
              "201    medium\n",
              "202    medium\n",
              "203    medium\n",
              "Name: price-bin, Length: 204, dtype: category\n",
              "Categories (3, object): ['low' < 'medium' < 'high']"
            ]
          },
          "execution_count": 52,
          "metadata": {},
          "output_type": "execute_result"
        }
      ],
      "source": [
        "bins = np.linspace(min(df['price']), max(df['price']),4)\n",
        "df['price-bin'] =  pd.cut(df['price'], bins, labels = label_hp, include_lowest=True)\n",
        "df['price-bin']"
      ]
    },
    {
      "cell_type": "code",
      "execution_count": 53,
      "metadata": {
        "id": "86d57404"
      },
      "outputs": [],
      "source": [
        "df.to_csv(\"df_cau13.csv\")"
      ]
    },
    {
      "cell_type": "code",
      "execution_count": 57,
      "metadata": {
        "id": "43986981"
      },
      "outputs": [],
      "source": [
        "def Is_DataFrame_NotNull(df):\n",
        "    if df.isnull().any().any() == True:\n",
        "        return False\n",
        "    else:\n",
        "        return True"
      ]
    },
    {
      "cell_type": "code",
      "execution_count": 58,
      "metadata": {
        "colab": {
          "base_uri": "https://localhost:8080/"
        },
        "id": "9851682a",
        "outputId": "98ef4988-ba5c-46a4-c655-1b998e051112"
      },
      "outputs": [
        {
          "data": {
            "text/plain": [
              "True"
            ]
          },
          "execution_count": 58,
          "metadata": {},
          "output_type": "execute_result"
        }
      ],
      "source": [
        "Is_DataFrame_NotNull(df)"
      ]
    },
    {
      "cell_type": "code",
      "execution_count": 59,
      "metadata": {
        "id": "06205c59"
      },
      "outputs": [],
      "source": [
        "df.to_csv(\"df_cau11.csv\")"
      ]
    }
  ],
  "metadata": {
    "colab": {
      "collapsed_sections": [
        "ow_SSRhWy3pg",
        "sPT1OG-60_nu"
      ],
      "provenance": [],
      "toc_visible": true
    },
    "kernelspec": {
      "display_name": "Python 3",
      "name": "python3"
    },
    "language_info": {
      "name": "python"
    }
  },
  "nbformat": 4,
  "nbformat_minor": 0
}
